{
 "cells": [
  {
   "cell_type": "code",
   "execution_count": 0,
   "metadata": {
    "application/vnd.databricks.v1+cell": {
     "cellMetadata": {
      "byteLimit": 2048000,
      "rowLimit": 10000
     },
     "inputWidgets": {},
     "nuid": "f13abf47-d99f-45b1-999a-2f21ff4c9671",
     "showTitle": false,
     "tableResultSettingsMap": {},
     "title": ""
    }
   },
   "outputs": [
    {
     "output_type": "stream",
     "name": "stdout",
     "output_type": "stream",
     "text": [
      "Out[3]: [FileInfo(path='dbfs:/FileStore/tables/BigMart_Sales.csv', name='BigMart_Sales.csv', size=869537, modificationTime=1746875253000),\n FileInfo(path='dbfs:/FileStore/tables/Online_Retail__2_.csv', name='Online_Retail__2_.csv', size=46128694, modificationTime=1747572572000),\n FileInfo(path='dbfs:/FileStore/tables/Online_Retail__2_.xlsx', name='Online_Retail__2_.xlsx', size=23715344, modificationTime=1747571418000),\n FileInfo(path='dbfs:/FileStore/tables/drivers.json', name='drivers.json', size=180812, modificationTime=1746883266000),\n FileInfo(path='dbfs:/FileStore/tables/health_data.csv', name='health_data.csv', size=4226, modificationTime=1747643556000)]"
     ]
    }
   ],
   "source": [
    "dbutils.fs.ls('/FileStore/tables')"
   ]
  },
  {
   "cell_type": "markdown",
   "metadata": {
    "application/vnd.databricks.v1+cell": {
     "cellMetadata": {},
     "inputWidgets": {},
     "nuid": "c458aa6e-cfe0-4c8a-ac0a-4ff772878223",
     "showTitle": false,
     "tableResultSettingsMap": {},
     "title": ""
    }
   },
   "source": [
    "### Step-1: Load the dataset"
   ]
  },
  {
   "cell_type": "code",
   "execution_count": 0,
   "metadata": {
    "application/vnd.databricks.v1+cell": {
     "cellMetadata": {
      "byteLimit": 2048000,
      "rowLimit": 10000
     },
     "inputWidgets": {},
     "nuid": "4c222727-69e3-4070-86bf-6981fa308185",
     "showTitle": false,
     "tableResultSettingsMap": {},
     "title": ""
    }
   },
   "outputs": [
    {
     "output_type": "display_data",
     "data": {
      "text/html": [
       "<style scoped>\n",
       "  .table-result-container {\n",
       "    max-height: 300px;\n",
       "    overflow: auto;\n",
       "  }\n",
       "  table, th, td {\n",
       "    border: 1px solid black;\n",
       "    border-collapse: collapse;\n",
       "  }\n",
       "  th, td {\n",
       "    padding: 5px;\n",
       "  }\n",
       "  th {\n",
       "    text-align: left;\n",
       "  }\n",
       "</style><div class='table-result-container'><table class='table-result'><thead style='background-color: white'><tr><th>PatientID</th><th>Name</th><th>Age</th><th>Gender</th><th>VisitDate</th><th>BloodPressure</th><th>GlucoseLevel</th><th>BMI</th></tr></thead><tbody><tr><td>1</td><td>Danielle</td><td>58</td><td>M</td><td>2024-05-27</td><td>111/93</td><td>105</td><td>22.5</td></tr><tr><td>2</td><td>Judith</td><td>26</td><td>M</td><td>2024-08-21</td><td>153/93</td><td>139</td><td>19.9</td></tr><tr><td>3</td><td>Jeffrey</td><td>45</td><td>M</td><td>2025-02-28</td><td>111/72</td><td>97</td><td>22.3</td></tr><tr><td>4</td><td>Curtis</td><td>56</td><td>M</td><td>2025-03-01</td><td>145/76</td><td>153</td><td>30.1</td></tr><tr><td>5</td><td>Patricia</td><td>44</td><td>M</td><td>2024-06-20</td><td>138/88</td><td>105</td><td>31.9</td></tr><tr><td>6</td><td>Brittany</td><td>18</td><td>M</td><td>2024-05-30</td><td>154/83</td><td>113</td><td>23.1</td></tr><tr><td>7</td><td>Anthony</td><td>31</td><td>F</td><td>2024-08-10</td><td>116/72</td><td>118</td><td>20.1</td></tr><tr><td>8</td><td>Jesse</td><td>72</td><td>F</td><td>2025-01-06</td><td>148/78</td><td>75</td><td>30.5</td></tr><tr><td>9</td><td>Anthony</td><td>52</td><td>M</td><td>2024-08-03</td><td>134/72</td><td>140</td><td>23.3</td></tr><tr><td>10</td><td>Jennifer</td><td>58</td><td>F</td><td>2025-02-14</td><td>146/76</td><td>160</td><td>19.6</td></tr><tr><td>11</td><td>Amy</td><td>60</td><td>M</td><td>2024-08-11</td><td>159/79</td><td>80</td><td>32.6</td></tr><tr><td>12</td><td>Shane</td><td>73</td><td>M</td><td>2024-09-03</td><td>134/78</td><td>128</td><td>29.0</td></tr><tr><td>13</td><td>Lisa</td><td>41</td><td>M</td><td>2024-05-20</td><td>133/81</td><td>96</td><td>29.6</td></tr><tr><td>14</td><td>Katherine</td><td>62</td><td>M</td><td>2024-07-19</td><td>148/90</td><td>91</td><td>27.3</td></tr><tr><td>15</td><td>Helen</td><td>33</td><td>M</td><td>2024-09-27</td><td>139/82</td><td>104</td><td>34.8</td></tr><tr><td>16</td><td>Joshua</td><td>58</td><td>M</td><td>2024-08-09</td><td>153/80</td><td>77</td><td>22.3</td></tr><tr><td>17</td><td>Susan</td><td>20</td><td>F</td><td>2024-09-25</td><td>135/78</td><td>78</td><td>22.0</td></tr><tr><td>18</td><td>Curtis</td><td>78</td><td>F</td><td>2024-10-12</td><td>123/90</td><td>133</td><td>25.0</td></tr><tr><td>19</td><td>Colin</td><td>76</td><td>F</td><td>2025-04-12</td><td>119/78</td><td>87</td><td>22.6</td></tr><tr><td>20</td><td>Maurice</td><td>53</td><td>F</td><td>2024-08-28</td><td>157/88</td><td>124</td><td>33.3</td></tr><tr><td>21</td><td>Lindsay</td><td>43</td><td>F</td><td>2025-02-25</td><td>124/74</td><td>135</td><td>26.6</td></tr><tr><td>22</td><td>Stephen</td><td>66</td><td>M</td><td>2024-07-05</td><td>117/74</td><td>150</td><td>21.1</td></tr><tr><td>23</td><td>Teresa</td><td>61</td><td>F</td><td>2024-10-12</td><td>148/72</td><td>119</td><td>24.8</td></tr><tr><td>24</td><td>Christian</td><td>47</td><td>F</td><td>2024-09-08</td><td>145/97</td><td>71</td><td>29.7</td></tr><tr><td>25</td><td>Maria</td><td>25</td><td>F</td><td>2025-01-13</td><td>159/90</td><td>113</td><td>20.3</td></tr><tr><td>26</td><td>Nicole</td><td>45</td><td>M</td><td>2024-10-05</td><td>139/70</td><td>103</td><td>34.5</td></tr><tr><td>27</td><td>Barbara</td><td>66</td><td>M</td><td>2025-02-15</td><td>142/99</td><td>83</td><td>32.9</td></tr><tr><td>28</td><td>Chad</td><td>37</td><td>M</td><td>2025-01-29</td><td>119/81</td><td>90</td><td>27.4</td></tr><tr><td>29</td><td>Jeremy</td><td>67</td><td>M</td><td>2024-09-07</td><td>148/80</td><td>132</td><td>18.8</td></tr><tr><td>30</td><td>Tracie</td><td>77</td><td>F</td><td>2025-04-15</td><td>129/77</td><td>77</td><td>22.5</td></tr><tr><td>31</td><td>Jesse</td><td>54</td><td>M</td><td>2024-06-26</td><td>115/93</td><td>132</td><td>32.0</td></tr><tr><td>32</td><td>Norman</td><td>80</td><td>M</td><td>2024-11-10</td><td>118/91</td><td>130</td><td>34.1</td></tr><tr><td>33</td><td>Cynthia</td><td>28</td><td>F</td><td>2024-10-06</td><td>143/97</td><td>147</td><td>25.5</td></tr><tr><td>34</td><td>Francisco</td><td>31</td><td>M</td><td>2024-10-02</td><td>155/79</td><td>121</td><td>34.9</td></tr><tr><td>35</td><td>Jason</td><td>59</td><td>F</td><td>2024-08-29</td><td>138/98</td><td>136</td><td>25.9</td></tr><tr><td>36</td><td>Jacqueline</td><td>33</td><td>M</td><td>2025-02-07</td><td>114/80</td><td>72</td><td>28.2</td></tr><tr><td>37</td><td>Deborah</td><td>32</td><td>M</td><td>2025-01-09</td><td>110/72</td><td>160</td><td>28.9</td></tr><tr><td>38</td><td>Cynthia</td><td>32</td><td>M</td><td>2024-12-11</td><td>112/97</td><td>112</td><td>19.7</td></tr><tr><td>39</td><td>Jessica</td><td>33</td><td>F</td><td>2024-07-20</td><td>152/85</td><td>97</td><td>27.4</td></tr><tr><td>40</td><td>Steven</td><td>64</td><td>F</td><td>2024-08-30</td><td>125/95</td><td>130</td><td>31.8</td></tr><tr><td>41</td><td>Veronica</td><td>30</td><td>M</td><td>2025-01-21</td><td>116/91</td><td>125</td><td>24.3</td></tr><tr><td>42</td><td>Hailey</td><td>44</td><td>F</td><td>2024-08-11</td><td>156/71</td><td>156</td><td>29.3</td></tr><tr><td>43</td><td>Gabrielle</td><td>59</td><td>M</td><td>2025-04-10</td><td>113/82</td><td>113</td><td>31.7</td></tr><tr><td>44</td><td>Kayla</td><td>24</td><td>M</td><td>2024-06-08</td><td>122/76</td><td>138</td><td>25.9</td></tr><tr><td>45</td><td>Jeremy</td><td>45</td><td>M</td><td>2024-05-30</td><td>127/84</td><td>101</td><td>32.9</td></tr><tr><td>46</td><td>Linda</td><td>22</td><td>F</td><td>2024-10-20</td><td>145/73</td><td>76</td><td>29.3</td></tr><tr><td>47</td><td>Joseph</td><td>52</td><td>M</td><td>2024-08-07</td><td>115/99</td><td>100</td><td>21.2</td></tr><tr><td>48</td><td>Robin</td><td>49</td><td>F</td><td>2024-12-24</td><td>123/97</td><td>121</td><td>33.4</td></tr><tr><td>49</td><td>Nancy</td><td>28</td><td>F</td><td>2024-09-17</td><td>110/82</td><td>103</td><td>33.8</td></tr><tr><td>50</td><td>Jason</td><td>68</td><td>F</td><td>2024-11-27</td><td>128/83</td><td>159</td><td>34.3</td></tr><tr><td>51</td><td>Randall</td><td>68</td><td>F</td><td>2025-05-08</td><td>119/76</td><td>107</td><td>22.1</td></tr><tr><td>52</td><td>Dawn</td><td>21</td><td>M</td><td>2024-07-12</td><td>157/80</td><td>77</td><td>19.3</td></tr><tr><td>53</td><td>Joseph</td><td>48</td><td>M</td><td>2024-08-21</td><td>113/100</td><td>135</td><td>19.8</td></tr><tr><td>54</td><td>Julie</td><td>29</td><td>M</td><td>2024-12-13</td><td>148/72</td><td>156</td><td>32.7</td></tr><tr><td>55</td><td>Jose</td><td>43</td><td>M</td><td>2024-12-31</td><td>146/77</td><td>144</td><td>28.3</td></tr><tr><td>56</td><td>Ross</td><td>57</td><td>M</td><td>2024-12-30</td><td>136/91</td><td>144</td><td>27.8</td></tr><tr><td>57</td><td>Reginald</td><td>38</td><td>F</td><td>2024-08-11</td><td>123/91</td><td>110</td><td>22.4</td></tr><tr><td>58</td><td>Wendy</td><td>43</td><td>M</td><td>2024-07-10</td><td>152/90</td><td>108</td><td>26.0</td></tr><tr><td>59</td><td>William</td><td>77</td><td>M</td><td>2024-06-22</td><td>110/84</td><td>149</td><td>35.0</td></tr><tr><td>60</td><td>Katelyn</td><td>24</td><td>M</td><td>2025-04-17</td><td>144/76</td><td>134</td><td>22.9</td></tr><tr><td>61</td><td>Daniel</td><td>77</td><td>F</td><td>2025-01-16</td><td>114/98</td><td>101</td><td>24.6</td></tr><tr><td>62</td><td>Ernest</td><td>28</td><td>F</td><td>2025-02-06</td><td>144/92</td><td>108</td><td>28.6</td></tr><tr><td>63</td><td>Robert</td><td>69</td><td>M</td><td>2024-06-11</td><td>152/96</td><td>140</td><td>23.4</td></tr><tr><td>64</td><td>Paul</td><td>60</td><td>M</td><td>2025-01-04</td><td>118/78</td><td>84</td><td>33.2</td></tr><tr><td>65</td><td>Wendy</td><td>65</td><td>M</td><td>2024-12-09</td><td>127/79</td><td>147</td><td>22.0</td></tr><tr><td>66</td><td>John</td><td>39</td><td>M</td><td>2024-12-18</td><td>153/90</td><td>103</td><td>26.8</td></tr><tr><td>67</td><td>Michelle</td><td>34</td><td>M</td><td>2024-05-22</td><td>115/90</td><td>124</td><td>32.2</td></tr><tr><td>68</td><td>Erin</td><td>20</td><td>M</td><td>2024-07-01</td><td>131/94</td><td>86</td><td>29.0</td></tr><tr><td>69</td><td>Erin</td><td>34</td><td>M</td><td>2024-12-12</td><td>157/84</td><td>140</td><td>30.1</td></tr><tr><td>70</td><td>Karen</td><td>53</td><td>M</td><td>2025-03-12</td><td>117/72</td><td>158</td><td>33.4</td></tr><tr><td>71</td><td>Danielle</td><td>52</td><td>M</td><td>2024-06-30</td><td>133/88</td><td>140</td><td>20.9</td></tr><tr><td>72</td><td>Kelly</td><td>26</td><td>M</td><td>2024-07-18</td><td>129/81</td><td>75</td><td>33.3</td></tr><tr><td>73</td><td>Shawn</td><td>31</td><td>M</td><td>2025-02-22</td><td>152/73</td><td>115</td><td>31.4</td></tr><tr><td>74</td><td>Nancy</td><td>74</td><td>F</td><td>2024-08-28</td><td>149/93</td><td>89</td><td>33.8</td></tr><tr><td>75</td><td>Teresa</td><td>33</td><td>M</td><td>2025-03-09</td><td>121/98</td><td>122</td><td>18.9</td></tr><tr><td>76</td><td>Guy</td><td>65</td><td>F</td><td>2025-05-07</td><td>160/99</td><td>122</td><td>31.7</td></tr><tr><td>77</td><td>Daniel</td><td>73</td><td>M</td><td>2025-01-15</td><td>127/75</td><td>159</td><td>20.3</td></tr><tr><td>78</td><td>Kenneth</td><td>73</td><td>M</td><td>2025-01-21</td><td>140/77</td><td>95</td><td>32.0</td></tr><tr><td>79</td><td>William</td><td>47</td><td>F</td><td>2024-08-03</td><td>129/96</td><td>99</td><td>22.2</td></tr><tr><td>80</td><td>Eric</td><td>60</td><td>M</td><td>2025-03-10</td><td>135/80</td><td>105</td><td>32.8</td></tr><tr><td>81</td><td>Evan</td><td>79</td><td>F</td><td>2025-03-16</td><td>132/90</td><td>135</td><td>25.1</td></tr><tr><td>82</td><td>Sandra</td><td>80</td><td>F</td><td>2025-05-09</td><td>111/73</td><td>103</td><td>21.4</td></tr><tr><td>83</td><td>Aaron</td><td>79</td><td>F</td><td>2024-09-20</td><td>112/73</td><td>146</td><td>25.7</td></tr><tr><td>84</td><td>Tracy</td><td>64</td><td>F</td><td>2024-06-30</td><td>137/89</td><td>135</td><td>20.4</td></tr><tr><td>85</td><td>Sarah</td><td>75</td><td>M</td><td>2025-04-24</td><td>126/71</td><td>160</td><td>25.7</td></tr><tr><td>86</td><td>Tricia</td><td>51</td><td>M</td><td>2025-03-27</td><td>133/83</td><td>78</td><td>34.2</td></tr><tr><td>87</td><td>Kyle</td><td>76</td><td>F</td><td>2024-06-09</td><td>149/80</td><td>154</td><td>32.5</td></tr><tr><td>88</td><td>John</td><td>64</td><td>F</td><td>2024-12-24</td><td>142/79</td><td>155</td><td>25.2</td></tr><tr><td>89</td><td>Stacey</td><td>43</td><td>F</td><td>2024-06-20</td><td>145/74</td><td>94</td><td>25.4</td></tr><tr><td>90</td><td>Jessica</td><td>78</td><td>F</td><td>2025-03-30</td><td>153/93</td><td>92</td><td>28.7</td></tr><tr><td>91</td><td>Chad</td><td>37</td><td>F</td><td>2025-03-09</td><td>145/96</td><td>70</td><td>23.5</td></tr><tr><td>92</td><td>Amanda</td><td>31</td><td>F</td><td>2024-07-05</td><td>160/88</td><td>147</td><td>29.3</td></tr><tr><td>93</td><td>David</td><td>47</td><td>F</td><td>2024-11-18</td><td>138/91</td><td>97</td><td>26.9</td></tr><tr><td>94</td><td>Stacey</td><td>68</td><td>M</td><td>2024-07-21</td><td>152/72</td><td>106</td><td>27.0</td></tr><tr><td>95</td><td>Joseph</td><td>58</td><td>F</td><td>2025-04-21</td><td>115/96</td><td>100</td><td>29.6</td></tr><tr><td>96</td><td>Catherine</td><td>32</td><td>M</td><td>2024-08-08</td><td>119/70</td><td>75</td><td>22.5</td></tr><tr><td>97</td><td>Sarah</td><td>48</td><td>M</td><td>2025-03-07</td><td>139/83</td><td>150</td><td>28.0</td></tr><tr><td>98</td><td>Jessica</td><td>63</td><td>F</td><td>2024-08-04</td><td>141/82</td><td>101</td><td>20.9</td></tr><tr><td>99</td><td>Jennifer</td><td>62</td><td>M</td><td>2024-10-19</td><td>158/97</td><td>83</td><td>31.3</td></tr><tr><td>100</td><td>Wanda</td><td>32</td><td>M</td><td>2025-01-25</td><td>154/86</td><td>129</td><td>19.3</td></tr></tbody></table></div>"
      ]
     },
     "metadata": {
      "application/vnd.databricks.v1+output": {
       "addedWidgets": {},
       "aggData": [],
       "aggError": "",
       "aggOverflow": false,
       "aggSchema": [],
       "aggSeriesLimitReached": false,
       "aggType": "",
       "arguments": {},
       "columnCustomDisplayInfos": {},
       "data": [
        [
         "1",
         "Danielle",
         "58",
         "M",
         "2024-05-27",
         "111/93",
         "105",
         "22.5"
        ],
        [
         "2",
         "Judith",
         "26",
         "M",
         "2024-08-21",
         "153/93",
         "139",
         "19.9"
        ],
        [
         "3",
         "Jeffrey",
         "45",
         "M",
         "2025-02-28",
         "111/72",
         "97",
         "22.3"
        ],
        [
         "4",
         "Curtis",
         "56",
         "M",
         "2025-03-01",
         "145/76",
         "153",
         "30.1"
        ],
        [
         "5",
         "Patricia",
         "44",
         "M",
         "2024-06-20",
         "138/88",
         "105",
         "31.9"
        ],
        [
         "6",
         "Brittany",
         "18",
         "M",
         "2024-05-30",
         "154/83",
         "113",
         "23.1"
        ],
        [
         "7",
         "Anthony",
         "31",
         "F",
         "2024-08-10",
         "116/72",
         "118",
         "20.1"
        ],
        [
         "8",
         "Jesse",
         "72",
         "F",
         "2025-01-06",
         "148/78",
         "75",
         "30.5"
        ],
        [
         "9",
         "Anthony",
         "52",
         "M",
         "2024-08-03",
         "134/72",
         "140",
         "23.3"
        ],
        [
         "10",
         "Jennifer",
         "58",
         "F",
         "2025-02-14",
         "146/76",
         "160",
         "19.6"
        ],
        [
         "11",
         "Amy",
         "60",
         "M",
         "2024-08-11",
         "159/79",
         "80",
         "32.6"
        ],
        [
         "12",
         "Shane",
         "73",
         "M",
         "2024-09-03",
         "134/78",
         "128",
         "29.0"
        ],
        [
         "13",
         "Lisa",
         "41",
         "M",
         "2024-05-20",
         "133/81",
         "96",
         "29.6"
        ],
        [
         "14",
         "Katherine",
         "62",
         "M",
         "2024-07-19",
         "148/90",
         "91",
         "27.3"
        ],
        [
         "15",
         "Helen",
         "33",
         "M",
         "2024-09-27",
         "139/82",
         "104",
         "34.8"
        ],
        [
         "16",
         "Joshua",
         "58",
         "M",
         "2024-08-09",
         "153/80",
         "77",
         "22.3"
        ],
        [
         "17",
         "Susan",
         "20",
         "F",
         "2024-09-25",
         "135/78",
         "78",
         "22.0"
        ],
        [
         "18",
         "Curtis",
         "78",
         "F",
         "2024-10-12",
         "123/90",
         "133",
         "25.0"
        ],
        [
         "19",
         "Colin",
         "76",
         "F",
         "2025-04-12",
         "119/78",
         "87",
         "22.6"
        ],
        [
         "20",
         "Maurice",
         "53",
         "F",
         "2024-08-28",
         "157/88",
         "124",
         "33.3"
        ],
        [
         "21",
         "Lindsay",
         "43",
         "F",
         "2025-02-25",
         "124/74",
         "135",
         "26.6"
        ],
        [
         "22",
         "Stephen",
         "66",
         "M",
         "2024-07-05",
         "117/74",
         "150",
         "21.1"
        ],
        [
         "23",
         "Teresa",
         "61",
         "F",
         "2024-10-12",
         "148/72",
         "119",
         "24.8"
        ],
        [
         "24",
         "Christian",
         "47",
         "F",
         "2024-09-08",
         "145/97",
         "71",
         "29.7"
        ],
        [
         "25",
         "Maria",
         "25",
         "F",
         "2025-01-13",
         "159/90",
         "113",
         "20.3"
        ],
        [
         "26",
         "Nicole",
         "45",
         "M",
         "2024-10-05",
         "139/70",
         "103",
         "34.5"
        ],
        [
         "27",
         "Barbara",
         "66",
         "M",
         "2025-02-15",
         "142/99",
         "83",
         "32.9"
        ],
        [
         "28",
         "Chad",
         "37",
         "M",
         "2025-01-29",
         "119/81",
         "90",
         "27.4"
        ],
        [
         "29",
         "Jeremy",
         "67",
         "M",
         "2024-09-07",
         "148/80",
         "132",
         "18.8"
        ],
        [
         "30",
         "Tracie",
         "77",
         "F",
         "2025-04-15",
         "129/77",
         "77",
         "22.5"
        ],
        [
         "31",
         "Jesse",
         "54",
         "M",
         "2024-06-26",
         "115/93",
         "132",
         "32.0"
        ],
        [
         "32",
         "Norman",
         "80",
         "M",
         "2024-11-10",
         "118/91",
         "130",
         "34.1"
        ],
        [
         "33",
         "Cynthia",
         "28",
         "F",
         "2024-10-06",
         "143/97",
         "147",
         "25.5"
        ],
        [
         "34",
         "Francisco",
         "31",
         "M",
         "2024-10-02",
         "155/79",
         "121",
         "34.9"
        ],
        [
         "35",
         "Jason",
         "59",
         "F",
         "2024-08-29",
         "138/98",
         "136",
         "25.9"
        ],
        [
         "36",
         "Jacqueline",
         "33",
         "M",
         "2025-02-07",
         "114/80",
         "72",
         "28.2"
        ],
        [
         "37",
         "Deborah",
         "32",
         "M",
         "2025-01-09",
         "110/72",
         "160",
         "28.9"
        ],
        [
         "38",
         "Cynthia",
         "32",
         "M",
         "2024-12-11",
         "112/97",
         "112",
         "19.7"
        ],
        [
         "39",
         "Jessica",
         "33",
         "F",
         "2024-07-20",
         "152/85",
         "97",
         "27.4"
        ],
        [
         "40",
         "Steven",
         "64",
         "F",
         "2024-08-30",
         "125/95",
         "130",
         "31.8"
        ],
        [
         "41",
         "Veronica",
         "30",
         "M",
         "2025-01-21",
         "116/91",
         "125",
         "24.3"
        ],
        [
         "42",
         "Hailey",
         "44",
         "F",
         "2024-08-11",
         "156/71",
         "156",
         "29.3"
        ],
        [
         "43",
         "Gabrielle",
         "59",
         "M",
         "2025-04-10",
         "113/82",
         "113",
         "31.7"
        ],
        [
         "44",
         "Kayla",
         "24",
         "M",
         "2024-06-08",
         "122/76",
         "138",
         "25.9"
        ],
        [
         "45",
         "Jeremy",
         "45",
         "M",
         "2024-05-30",
         "127/84",
         "101",
         "32.9"
        ],
        [
         "46",
         "Linda",
         "22",
         "F",
         "2024-10-20",
         "145/73",
         "76",
         "29.3"
        ],
        [
         "47",
         "Joseph",
         "52",
         "M",
         "2024-08-07",
         "115/99",
         "100",
         "21.2"
        ],
        [
         "48",
         "Robin",
         "49",
         "F",
         "2024-12-24",
         "123/97",
         "121",
         "33.4"
        ],
        [
         "49",
         "Nancy",
         "28",
         "F",
         "2024-09-17",
         "110/82",
         "103",
         "33.8"
        ],
        [
         "50",
         "Jason",
         "68",
         "F",
         "2024-11-27",
         "128/83",
         "159",
         "34.3"
        ],
        [
         "51",
         "Randall",
         "68",
         "F",
         "2025-05-08",
         "119/76",
         "107",
         "22.1"
        ],
        [
         "52",
         "Dawn",
         "21",
         "M",
         "2024-07-12",
         "157/80",
         "77",
         "19.3"
        ],
        [
         "53",
         "Joseph",
         "48",
         "M",
         "2024-08-21",
         "113/100",
         "135",
         "19.8"
        ],
        [
         "54",
         "Julie",
         "29",
         "M",
         "2024-12-13",
         "148/72",
         "156",
         "32.7"
        ],
        [
         "55",
         "Jose",
         "43",
         "M",
         "2024-12-31",
         "146/77",
         "144",
         "28.3"
        ],
        [
         "56",
         "Ross",
         "57",
         "M",
         "2024-12-30",
         "136/91",
         "144",
         "27.8"
        ],
        [
         "57",
         "Reginald",
         "38",
         "F",
         "2024-08-11",
         "123/91",
         "110",
         "22.4"
        ],
        [
         "58",
         "Wendy",
         "43",
         "M",
         "2024-07-10",
         "152/90",
         "108",
         "26.0"
        ],
        [
         "59",
         "William",
         "77",
         "M",
         "2024-06-22",
         "110/84",
         "149",
         "35.0"
        ],
        [
         "60",
         "Katelyn",
         "24",
         "M",
         "2025-04-17",
         "144/76",
         "134",
         "22.9"
        ],
        [
         "61",
         "Daniel",
         "77",
         "F",
         "2025-01-16",
         "114/98",
         "101",
         "24.6"
        ],
        [
         "62",
         "Ernest",
         "28",
         "F",
         "2025-02-06",
         "144/92",
         "108",
         "28.6"
        ],
        [
         "63",
         "Robert",
         "69",
         "M",
         "2024-06-11",
         "152/96",
         "140",
         "23.4"
        ],
        [
         "64",
         "Paul",
         "60",
         "M",
         "2025-01-04",
         "118/78",
         "84",
         "33.2"
        ],
        [
         "65",
         "Wendy",
         "65",
         "M",
         "2024-12-09",
         "127/79",
         "147",
         "22.0"
        ],
        [
         "66",
         "John",
         "39",
         "M",
         "2024-12-18",
         "153/90",
         "103",
         "26.8"
        ],
        [
         "67",
         "Michelle",
         "34",
         "M",
         "2024-05-22",
         "115/90",
         "124",
         "32.2"
        ],
        [
         "68",
         "Erin",
         "20",
         "M",
         "2024-07-01",
         "131/94",
         "86",
         "29.0"
        ],
        [
         "69",
         "Erin",
         "34",
         "M",
         "2024-12-12",
         "157/84",
         "140",
         "30.1"
        ],
        [
         "70",
         "Karen",
         "53",
         "M",
         "2025-03-12",
         "117/72",
         "158",
         "33.4"
        ],
        [
         "71",
         "Danielle",
         "52",
         "M",
         "2024-06-30",
         "133/88",
         "140",
         "20.9"
        ],
        [
         "72",
         "Kelly",
         "26",
         "M",
         "2024-07-18",
         "129/81",
         "75",
         "33.3"
        ],
        [
         "73",
         "Shawn",
         "31",
         "M",
         "2025-02-22",
         "152/73",
         "115",
         "31.4"
        ],
        [
         "74",
         "Nancy",
         "74",
         "F",
         "2024-08-28",
         "149/93",
         "89",
         "33.8"
        ],
        [
         "75",
         "Teresa",
         "33",
         "M",
         "2025-03-09",
         "121/98",
         "122",
         "18.9"
        ],
        [
         "76",
         "Guy",
         "65",
         "F",
         "2025-05-07",
         "160/99",
         "122",
         "31.7"
        ],
        [
         "77",
         "Daniel",
         "73",
         "M",
         "2025-01-15",
         "127/75",
         "159",
         "20.3"
        ],
        [
         "78",
         "Kenneth",
         "73",
         "M",
         "2025-01-21",
         "140/77",
         "95",
         "32.0"
        ],
        [
         "79",
         "William",
         "47",
         "F",
         "2024-08-03",
         "129/96",
         "99",
         "22.2"
        ],
        [
         "80",
         "Eric",
         "60",
         "M",
         "2025-03-10",
         "135/80",
         "105",
         "32.8"
        ],
        [
         "81",
         "Evan",
         "79",
         "F",
         "2025-03-16",
         "132/90",
         "135",
         "25.1"
        ],
        [
         "82",
         "Sandra",
         "80",
         "F",
         "2025-05-09",
         "111/73",
         "103",
         "21.4"
        ],
        [
         "83",
         "Aaron",
         "79",
         "F",
         "2024-09-20",
         "112/73",
         "146",
         "25.7"
        ],
        [
         "84",
         "Tracy",
         "64",
         "F",
         "2024-06-30",
         "137/89",
         "135",
         "20.4"
        ],
        [
         "85",
         "Sarah",
         "75",
         "M",
         "2025-04-24",
         "126/71",
         "160",
         "25.7"
        ],
        [
         "86",
         "Tricia",
         "51",
         "M",
         "2025-03-27",
         "133/83",
         "78",
         "34.2"
        ],
        [
         "87",
         "Kyle",
         "76",
         "F",
         "2024-06-09",
         "149/80",
         "154",
         "32.5"
        ],
        [
         "88",
         "John",
         "64",
         "F",
         "2024-12-24",
         "142/79",
         "155",
         "25.2"
        ],
        [
         "89",
         "Stacey",
         "43",
         "F",
         "2024-06-20",
         "145/74",
         "94",
         "25.4"
        ],
        [
         "90",
         "Jessica",
         "78",
         "F",
         "2025-03-30",
         "153/93",
         "92",
         "28.7"
        ],
        [
         "91",
         "Chad",
         "37",
         "F",
         "2025-03-09",
         "145/96",
         "70",
         "23.5"
        ],
        [
         "92",
         "Amanda",
         "31",
         "F",
         "2024-07-05",
         "160/88",
         "147",
         "29.3"
        ],
        [
         "93",
         "David",
         "47",
         "F",
         "2024-11-18",
         "138/91",
         "97",
         "26.9"
        ],
        [
         "94",
         "Stacey",
         "68",
         "M",
         "2024-07-21",
         "152/72",
         "106",
         "27.0"
        ],
        [
         "95",
         "Joseph",
         "58",
         "F",
         "2025-04-21",
         "115/96",
         "100",
         "29.6"
        ],
        [
         "96",
         "Catherine",
         "32",
         "M",
         "2024-08-08",
         "119/70",
         "75",
         "22.5"
        ],
        [
         "97",
         "Sarah",
         "48",
         "M",
         "2025-03-07",
         "139/83",
         "150",
         "28.0"
        ],
        [
         "98",
         "Jessica",
         "63",
         "F",
         "2024-08-04",
         "141/82",
         "101",
         "20.9"
        ],
        [
         "99",
         "Jennifer",
         "62",
         "M",
         "2024-10-19",
         "158/97",
         "83",
         "31.3"
        ],
        [
         "100",
         "Wanda",
         "32",
         "M",
         "2025-01-25",
         "154/86",
         "129",
         "19.3"
        ]
       ],
       "datasetInfos": [],
       "dbfsResultPath": null,
       "isJsonSchema": true,
       "metadata": {},
       "overflow": false,
       "plotOptions": {
        "customPlotOptions": {},
        "displayType": "table",
        "pivotAggregation": null,
        "pivotColumns": null,
        "xColumns": null,
        "yColumns": null
       },
       "removedWidgets": [],
       "schema": [
        {
         "metadata": "{}",
         "name": "PatientID",
         "type": "\"string\""
        },
        {
         "metadata": "{}",
         "name": "Name",
         "type": "\"string\""
        },
        {
         "metadata": "{}",
         "name": "Age",
         "type": "\"string\""
        },
        {
         "metadata": "{}",
         "name": "Gender",
         "type": "\"string\""
        },
        {
         "metadata": "{}",
         "name": "VisitDate",
         "type": "\"string\""
        },
        {
         "metadata": "{}",
         "name": "BloodPressure",
         "type": "\"string\""
        },
        {
         "metadata": "{}",
         "name": "GlucoseLevel",
         "type": "\"string\""
        },
        {
         "metadata": "{}",
         "name": "BMI",
         "type": "\"string\""
        }
       ],
       "type": "table"
      }
     },
     "output_type": "display_data"
    }
   ],
   "source": [
    "df = spark.read.option('header', True).csv('/FileStore/tables/health_data.csv')\n",
    "df.display()"
   ]
  },
  {
   "cell_type": "markdown",
   "metadata": {
    "application/vnd.databricks.v1+cell": {
     "cellMetadata": {},
     "inputWidgets": {},
     "nuid": "5bfd9627-06bb-478d-8878-3f9f0012e81b",
     "showTitle": false,
     "tableResultSettingsMap": {},
     "title": ""
    }
   },
   "source": [
    "### Step-2: Split 'BloodPressure' column into 'SystolicBP' and 'DiastolicBP'"
   ]
  },
  {
   "cell_type": "code",
   "execution_count": 0,
   "metadata": {
    "application/vnd.databricks.v1+cell": {
     "cellMetadata": {
      "byteLimit": 2048000,
      "rowLimit": 10000
     },
     "inputWidgets": {},
     "nuid": "602b283d-ec94-494e-9e97-22d7dfb8c965",
     "showTitle": false,
     "tableResultSettingsMap": {},
     "title": ""
    }
   },
   "outputs": [
    {
     "output_type": "display_data",
     "data": {
      "text/html": [
       "<style scoped>\n",
       "  .table-result-container {\n",
       "    max-height: 300px;\n",
       "    overflow: auto;\n",
       "  }\n",
       "  table, th, td {\n",
       "    border: 1px solid black;\n",
       "    border-collapse: collapse;\n",
       "  }\n",
       "  th, td {\n",
       "    padding: 5px;\n",
       "  }\n",
       "  th {\n",
       "    text-align: left;\n",
       "  }\n",
       "</style><div class='table-result-container'><table class='table-result'><thead style='background-color: white'><tr><th>PatientID</th><th>Name</th><th>Age</th><th>Gender</th><th>VisitDate</th><th>GlucoseLevel</th><th>BMI</th><th>SystolicBP</th><th>DiastolicBP</th></tr></thead><tbody><tr><td>1</td><td>Danielle</td><td>58</td><td>M</td><td>2024-05-27</td><td>105</td><td>22.5</td><td>111</td><td>93</td></tr><tr><td>2</td><td>Judith</td><td>26</td><td>M</td><td>2024-08-21</td><td>139</td><td>19.9</td><td>153</td><td>93</td></tr><tr><td>3</td><td>Jeffrey</td><td>45</td><td>M</td><td>2025-02-28</td><td>97</td><td>22.3</td><td>111</td><td>72</td></tr><tr><td>4</td><td>Curtis</td><td>56</td><td>M</td><td>2025-03-01</td><td>153</td><td>30.1</td><td>145</td><td>76</td></tr><tr><td>5</td><td>Patricia</td><td>44</td><td>M</td><td>2024-06-20</td><td>105</td><td>31.9</td><td>138</td><td>88</td></tr><tr><td>6</td><td>Brittany</td><td>18</td><td>M</td><td>2024-05-30</td><td>113</td><td>23.1</td><td>154</td><td>83</td></tr><tr><td>7</td><td>Anthony</td><td>31</td><td>F</td><td>2024-08-10</td><td>118</td><td>20.1</td><td>116</td><td>72</td></tr><tr><td>8</td><td>Jesse</td><td>72</td><td>F</td><td>2025-01-06</td><td>75</td><td>30.5</td><td>148</td><td>78</td></tr><tr><td>9</td><td>Anthony</td><td>52</td><td>M</td><td>2024-08-03</td><td>140</td><td>23.3</td><td>134</td><td>72</td></tr><tr><td>10</td><td>Jennifer</td><td>58</td><td>F</td><td>2025-02-14</td><td>160</td><td>19.6</td><td>146</td><td>76</td></tr><tr><td>11</td><td>Amy</td><td>60</td><td>M</td><td>2024-08-11</td><td>80</td><td>32.6</td><td>159</td><td>79</td></tr><tr><td>12</td><td>Shane</td><td>73</td><td>M</td><td>2024-09-03</td><td>128</td><td>29.0</td><td>134</td><td>78</td></tr><tr><td>13</td><td>Lisa</td><td>41</td><td>M</td><td>2024-05-20</td><td>96</td><td>29.6</td><td>133</td><td>81</td></tr><tr><td>14</td><td>Katherine</td><td>62</td><td>M</td><td>2024-07-19</td><td>91</td><td>27.3</td><td>148</td><td>90</td></tr><tr><td>15</td><td>Helen</td><td>33</td><td>M</td><td>2024-09-27</td><td>104</td><td>34.8</td><td>139</td><td>82</td></tr><tr><td>16</td><td>Joshua</td><td>58</td><td>M</td><td>2024-08-09</td><td>77</td><td>22.3</td><td>153</td><td>80</td></tr><tr><td>17</td><td>Susan</td><td>20</td><td>F</td><td>2024-09-25</td><td>78</td><td>22.0</td><td>135</td><td>78</td></tr><tr><td>18</td><td>Curtis</td><td>78</td><td>F</td><td>2024-10-12</td><td>133</td><td>25.0</td><td>123</td><td>90</td></tr><tr><td>19</td><td>Colin</td><td>76</td><td>F</td><td>2025-04-12</td><td>87</td><td>22.6</td><td>119</td><td>78</td></tr><tr><td>20</td><td>Maurice</td><td>53</td><td>F</td><td>2024-08-28</td><td>124</td><td>33.3</td><td>157</td><td>88</td></tr><tr><td>21</td><td>Lindsay</td><td>43</td><td>F</td><td>2025-02-25</td><td>135</td><td>26.6</td><td>124</td><td>74</td></tr><tr><td>22</td><td>Stephen</td><td>66</td><td>M</td><td>2024-07-05</td><td>150</td><td>21.1</td><td>117</td><td>74</td></tr><tr><td>23</td><td>Teresa</td><td>61</td><td>F</td><td>2024-10-12</td><td>119</td><td>24.8</td><td>148</td><td>72</td></tr><tr><td>24</td><td>Christian</td><td>47</td><td>F</td><td>2024-09-08</td><td>71</td><td>29.7</td><td>145</td><td>97</td></tr><tr><td>25</td><td>Maria</td><td>25</td><td>F</td><td>2025-01-13</td><td>113</td><td>20.3</td><td>159</td><td>90</td></tr><tr><td>26</td><td>Nicole</td><td>45</td><td>M</td><td>2024-10-05</td><td>103</td><td>34.5</td><td>139</td><td>70</td></tr><tr><td>27</td><td>Barbara</td><td>66</td><td>M</td><td>2025-02-15</td><td>83</td><td>32.9</td><td>142</td><td>99</td></tr><tr><td>28</td><td>Chad</td><td>37</td><td>M</td><td>2025-01-29</td><td>90</td><td>27.4</td><td>119</td><td>81</td></tr><tr><td>29</td><td>Jeremy</td><td>67</td><td>M</td><td>2024-09-07</td><td>132</td><td>18.8</td><td>148</td><td>80</td></tr><tr><td>30</td><td>Tracie</td><td>77</td><td>F</td><td>2025-04-15</td><td>77</td><td>22.5</td><td>129</td><td>77</td></tr><tr><td>31</td><td>Jesse</td><td>54</td><td>M</td><td>2024-06-26</td><td>132</td><td>32.0</td><td>115</td><td>93</td></tr><tr><td>32</td><td>Norman</td><td>80</td><td>M</td><td>2024-11-10</td><td>130</td><td>34.1</td><td>118</td><td>91</td></tr><tr><td>33</td><td>Cynthia</td><td>28</td><td>F</td><td>2024-10-06</td><td>147</td><td>25.5</td><td>143</td><td>97</td></tr><tr><td>34</td><td>Francisco</td><td>31</td><td>M</td><td>2024-10-02</td><td>121</td><td>34.9</td><td>155</td><td>79</td></tr><tr><td>35</td><td>Jason</td><td>59</td><td>F</td><td>2024-08-29</td><td>136</td><td>25.9</td><td>138</td><td>98</td></tr><tr><td>36</td><td>Jacqueline</td><td>33</td><td>M</td><td>2025-02-07</td><td>72</td><td>28.2</td><td>114</td><td>80</td></tr><tr><td>37</td><td>Deborah</td><td>32</td><td>M</td><td>2025-01-09</td><td>160</td><td>28.9</td><td>110</td><td>72</td></tr><tr><td>38</td><td>Cynthia</td><td>32</td><td>M</td><td>2024-12-11</td><td>112</td><td>19.7</td><td>112</td><td>97</td></tr><tr><td>39</td><td>Jessica</td><td>33</td><td>F</td><td>2024-07-20</td><td>97</td><td>27.4</td><td>152</td><td>85</td></tr><tr><td>40</td><td>Steven</td><td>64</td><td>F</td><td>2024-08-30</td><td>130</td><td>31.8</td><td>125</td><td>95</td></tr><tr><td>41</td><td>Veronica</td><td>30</td><td>M</td><td>2025-01-21</td><td>125</td><td>24.3</td><td>116</td><td>91</td></tr><tr><td>42</td><td>Hailey</td><td>44</td><td>F</td><td>2024-08-11</td><td>156</td><td>29.3</td><td>156</td><td>71</td></tr><tr><td>43</td><td>Gabrielle</td><td>59</td><td>M</td><td>2025-04-10</td><td>113</td><td>31.7</td><td>113</td><td>82</td></tr><tr><td>44</td><td>Kayla</td><td>24</td><td>M</td><td>2024-06-08</td><td>138</td><td>25.9</td><td>122</td><td>76</td></tr><tr><td>45</td><td>Jeremy</td><td>45</td><td>M</td><td>2024-05-30</td><td>101</td><td>32.9</td><td>127</td><td>84</td></tr><tr><td>46</td><td>Linda</td><td>22</td><td>F</td><td>2024-10-20</td><td>76</td><td>29.3</td><td>145</td><td>73</td></tr><tr><td>47</td><td>Joseph</td><td>52</td><td>M</td><td>2024-08-07</td><td>100</td><td>21.2</td><td>115</td><td>99</td></tr><tr><td>48</td><td>Robin</td><td>49</td><td>F</td><td>2024-12-24</td><td>121</td><td>33.4</td><td>123</td><td>97</td></tr><tr><td>49</td><td>Nancy</td><td>28</td><td>F</td><td>2024-09-17</td><td>103</td><td>33.8</td><td>110</td><td>82</td></tr><tr><td>50</td><td>Jason</td><td>68</td><td>F</td><td>2024-11-27</td><td>159</td><td>34.3</td><td>128</td><td>83</td></tr><tr><td>51</td><td>Randall</td><td>68</td><td>F</td><td>2025-05-08</td><td>107</td><td>22.1</td><td>119</td><td>76</td></tr><tr><td>52</td><td>Dawn</td><td>21</td><td>M</td><td>2024-07-12</td><td>77</td><td>19.3</td><td>157</td><td>80</td></tr><tr><td>53</td><td>Joseph</td><td>48</td><td>M</td><td>2024-08-21</td><td>135</td><td>19.8</td><td>113</td><td>100</td></tr><tr><td>54</td><td>Julie</td><td>29</td><td>M</td><td>2024-12-13</td><td>156</td><td>32.7</td><td>148</td><td>72</td></tr><tr><td>55</td><td>Jose</td><td>43</td><td>M</td><td>2024-12-31</td><td>144</td><td>28.3</td><td>146</td><td>77</td></tr><tr><td>56</td><td>Ross</td><td>57</td><td>M</td><td>2024-12-30</td><td>144</td><td>27.8</td><td>136</td><td>91</td></tr><tr><td>57</td><td>Reginald</td><td>38</td><td>F</td><td>2024-08-11</td><td>110</td><td>22.4</td><td>123</td><td>91</td></tr><tr><td>58</td><td>Wendy</td><td>43</td><td>M</td><td>2024-07-10</td><td>108</td><td>26.0</td><td>152</td><td>90</td></tr><tr><td>59</td><td>William</td><td>77</td><td>M</td><td>2024-06-22</td><td>149</td><td>35.0</td><td>110</td><td>84</td></tr><tr><td>60</td><td>Katelyn</td><td>24</td><td>M</td><td>2025-04-17</td><td>134</td><td>22.9</td><td>144</td><td>76</td></tr><tr><td>61</td><td>Daniel</td><td>77</td><td>F</td><td>2025-01-16</td><td>101</td><td>24.6</td><td>114</td><td>98</td></tr><tr><td>62</td><td>Ernest</td><td>28</td><td>F</td><td>2025-02-06</td><td>108</td><td>28.6</td><td>144</td><td>92</td></tr><tr><td>63</td><td>Robert</td><td>69</td><td>M</td><td>2024-06-11</td><td>140</td><td>23.4</td><td>152</td><td>96</td></tr><tr><td>64</td><td>Paul</td><td>60</td><td>M</td><td>2025-01-04</td><td>84</td><td>33.2</td><td>118</td><td>78</td></tr><tr><td>65</td><td>Wendy</td><td>65</td><td>M</td><td>2024-12-09</td><td>147</td><td>22.0</td><td>127</td><td>79</td></tr><tr><td>66</td><td>John</td><td>39</td><td>M</td><td>2024-12-18</td><td>103</td><td>26.8</td><td>153</td><td>90</td></tr><tr><td>67</td><td>Michelle</td><td>34</td><td>M</td><td>2024-05-22</td><td>124</td><td>32.2</td><td>115</td><td>90</td></tr><tr><td>68</td><td>Erin</td><td>20</td><td>M</td><td>2024-07-01</td><td>86</td><td>29.0</td><td>131</td><td>94</td></tr><tr><td>69</td><td>Erin</td><td>34</td><td>M</td><td>2024-12-12</td><td>140</td><td>30.1</td><td>157</td><td>84</td></tr><tr><td>70</td><td>Karen</td><td>53</td><td>M</td><td>2025-03-12</td><td>158</td><td>33.4</td><td>117</td><td>72</td></tr><tr><td>71</td><td>Danielle</td><td>52</td><td>M</td><td>2024-06-30</td><td>140</td><td>20.9</td><td>133</td><td>88</td></tr><tr><td>72</td><td>Kelly</td><td>26</td><td>M</td><td>2024-07-18</td><td>75</td><td>33.3</td><td>129</td><td>81</td></tr><tr><td>73</td><td>Shawn</td><td>31</td><td>M</td><td>2025-02-22</td><td>115</td><td>31.4</td><td>152</td><td>73</td></tr><tr><td>74</td><td>Nancy</td><td>74</td><td>F</td><td>2024-08-28</td><td>89</td><td>33.8</td><td>149</td><td>93</td></tr><tr><td>75</td><td>Teresa</td><td>33</td><td>M</td><td>2025-03-09</td><td>122</td><td>18.9</td><td>121</td><td>98</td></tr><tr><td>76</td><td>Guy</td><td>65</td><td>F</td><td>2025-05-07</td><td>122</td><td>31.7</td><td>160</td><td>99</td></tr><tr><td>77</td><td>Daniel</td><td>73</td><td>M</td><td>2025-01-15</td><td>159</td><td>20.3</td><td>127</td><td>75</td></tr><tr><td>78</td><td>Kenneth</td><td>73</td><td>M</td><td>2025-01-21</td><td>95</td><td>32.0</td><td>140</td><td>77</td></tr><tr><td>79</td><td>William</td><td>47</td><td>F</td><td>2024-08-03</td><td>99</td><td>22.2</td><td>129</td><td>96</td></tr><tr><td>80</td><td>Eric</td><td>60</td><td>M</td><td>2025-03-10</td><td>105</td><td>32.8</td><td>135</td><td>80</td></tr><tr><td>81</td><td>Evan</td><td>79</td><td>F</td><td>2025-03-16</td><td>135</td><td>25.1</td><td>132</td><td>90</td></tr><tr><td>82</td><td>Sandra</td><td>80</td><td>F</td><td>2025-05-09</td><td>103</td><td>21.4</td><td>111</td><td>73</td></tr><tr><td>83</td><td>Aaron</td><td>79</td><td>F</td><td>2024-09-20</td><td>146</td><td>25.7</td><td>112</td><td>73</td></tr><tr><td>84</td><td>Tracy</td><td>64</td><td>F</td><td>2024-06-30</td><td>135</td><td>20.4</td><td>137</td><td>89</td></tr><tr><td>85</td><td>Sarah</td><td>75</td><td>M</td><td>2025-04-24</td><td>160</td><td>25.7</td><td>126</td><td>71</td></tr><tr><td>86</td><td>Tricia</td><td>51</td><td>M</td><td>2025-03-27</td><td>78</td><td>34.2</td><td>133</td><td>83</td></tr><tr><td>87</td><td>Kyle</td><td>76</td><td>F</td><td>2024-06-09</td><td>154</td><td>32.5</td><td>149</td><td>80</td></tr><tr><td>88</td><td>John</td><td>64</td><td>F</td><td>2024-12-24</td><td>155</td><td>25.2</td><td>142</td><td>79</td></tr><tr><td>89</td><td>Stacey</td><td>43</td><td>F</td><td>2024-06-20</td><td>94</td><td>25.4</td><td>145</td><td>74</td></tr><tr><td>90</td><td>Jessica</td><td>78</td><td>F</td><td>2025-03-30</td><td>92</td><td>28.7</td><td>153</td><td>93</td></tr><tr><td>91</td><td>Chad</td><td>37</td><td>F</td><td>2025-03-09</td><td>70</td><td>23.5</td><td>145</td><td>96</td></tr><tr><td>92</td><td>Amanda</td><td>31</td><td>F</td><td>2024-07-05</td><td>147</td><td>29.3</td><td>160</td><td>88</td></tr><tr><td>93</td><td>David</td><td>47</td><td>F</td><td>2024-11-18</td><td>97</td><td>26.9</td><td>138</td><td>91</td></tr><tr><td>94</td><td>Stacey</td><td>68</td><td>M</td><td>2024-07-21</td><td>106</td><td>27.0</td><td>152</td><td>72</td></tr><tr><td>95</td><td>Joseph</td><td>58</td><td>F</td><td>2025-04-21</td><td>100</td><td>29.6</td><td>115</td><td>96</td></tr><tr><td>96</td><td>Catherine</td><td>32</td><td>M</td><td>2024-08-08</td><td>75</td><td>22.5</td><td>119</td><td>70</td></tr><tr><td>97</td><td>Sarah</td><td>48</td><td>M</td><td>2025-03-07</td><td>150</td><td>28.0</td><td>139</td><td>83</td></tr><tr><td>98</td><td>Jessica</td><td>63</td><td>F</td><td>2024-08-04</td><td>101</td><td>20.9</td><td>141</td><td>82</td></tr><tr><td>99</td><td>Jennifer</td><td>62</td><td>M</td><td>2024-10-19</td><td>83</td><td>31.3</td><td>158</td><td>97</td></tr><tr><td>100</td><td>Wanda</td><td>32</td><td>M</td><td>2025-01-25</td><td>129</td><td>19.3</td><td>154</td><td>86</td></tr></tbody></table></div>"
      ]
     },
     "metadata": {
      "application/vnd.databricks.v1+output": {
       "addedWidgets": {},
       "aggData": [],
       "aggError": "",
       "aggOverflow": false,
       "aggSchema": [],
       "aggSeriesLimitReached": false,
       "aggType": "",
       "arguments": {},
       "columnCustomDisplayInfos": {},
       "data": [
        [
         "1",
         "Danielle",
         "58",
         "M",
         "2024-05-27",
         "105",
         "22.5",
         111,
         93
        ],
        [
         "2",
         "Judith",
         "26",
         "M",
         "2024-08-21",
         "139",
         "19.9",
         153,
         93
        ],
        [
         "3",
         "Jeffrey",
         "45",
         "M",
         "2025-02-28",
         "97",
         "22.3",
         111,
         72
        ],
        [
         "4",
         "Curtis",
         "56",
         "M",
         "2025-03-01",
         "153",
         "30.1",
         145,
         76
        ],
        [
         "5",
         "Patricia",
         "44",
         "M",
         "2024-06-20",
         "105",
         "31.9",
         138,
         88
        ],
        [
         "6",
         "Brittany",
         "18",
         "M",
         "2024-05-30",
         "113",
         "23.1",
         154,
         83
        ],
        [
         "7",
         "Anthony",
         "31",
         "F",
         "2024-08-10",
         "118",
         "20.1",
         116,
         72
        ],
        [
         "8",
         "Jesse",
         "72",
         "F",
         "2025-01-06",
         "75",
         "30.5",
         148,
         78
        ],
        [
         "9",
         "Anthony",
         "52",
         "M",
         "2024-08-03",
         "140",
         "23.3",
         134,
         72
        ],
        [
         "10",
         "Jennifer",
         "58",
         "F",
         "2025-02-14",
         "160",
         "19.6",
         146,
         76
        ],
        [
         "11",
         "Amy",
         "60",
         "M",
         "2024-08-11",
         "80",
         "32.6",
         159,
         79
        ],
        [
         "12",
         "Shane",
         "73",
         "M",
         "2024-09-03",
         "128",
         "29.0",
         134,
         78
        ],
        [
         "13",
         "Lisa",
         "41",
         "M",
         "2024-05-20",
         "96",
         "29.6",
         133,
         81
        ],
        [
         "14",
         "Katherine",
         "62",
         "M",
         "2024-07-19",
         "91",
         "27.3",
         148,
         90
        ],
        [
         "15",
         "Helen",
         "33",
         "M",
         "2024-09-27",
         "104",
         "34.8",
         139,
         82
        ],
        [
         "16",
         "Joshua",
         "58",
         "M",
         "2024-08-09",
         "77",
         "22.3",
         153,
         80
        ],
        [
         "17",
         "Susan",
         "20",
         "F",
         "2024-09-25",
         "78",
         "22.0",
         135,
         78
        ],
        [
         "18",
         "Curtis",
         "78",
         "F",
         "2024-10-12",
         "133",
         "25.0",
         123,
         90
        ],
        [
         "19",
         "Colin",
         "76",
         "F",
         "2025-04-12",
         "87",
         "22.6",
         119,
         78
        ],
        [
         "20",
         "Maurice",
         "53",
         "F",
         "2024-08-28",
         "124",
         "33.3",
         157,
         88
        ],
        [
         "21",
         "Lindsay",
         "43",
         "F",
         "2025-02-25",
         "135",
         "26.6",
         124,
         74
        ],
        [
         "22",
         "Stephen",
         "66",
         "M",
         "2024-07-05",
         "150",
         "21.1",
         117,
         74
        ],
        [
         "23",
         "Teresa",
         "61",
         "F",
         "2024-10-12",
         "119",
         "24.8",
         148,
         72
        ],
        [
         "24",
         "Christian",
         "47",
         "F",
         "2024-09-08",
         "71",
         "29.7",
         145,
         97
        ],
        [
         "25",
         "Maria",
         "25",
         "F",
         "2025-01-13",
         "113",
         "20.3",
         159,
         90
        ],
        [
         "26",
         "Nicole",
         "45",
         "M",
         "2024-10-05",
         "103",
         "34.5",
         139,
         70
        ],
        [
         "27",
         "Barbara",
         "66",
         "M",
         "2025-02-15",
         "83",
         "32.9",
         142,
         99
        ],
        [
         "28",
         "Chad",
         "37",
         "M",
         "2025-01-29",
         "90",
         "27.4",
         119,
         81
        ],
        [
         "29",
         "Jeremy",
         "67",
         "M",
         "2024-09-07",
         "132",
         "18.8",
         148,
         80
        ],
        [
         "30",
         "Tracie",
         "77",
         "F",
         "2025-04-15",
         "77",
         "22.5",
         129,
         77
        ],
        [
         "31",
         "Jesse",
         "54",
         "M",
         "2024-06-26",
         "132",
         "32.0",
         115,
         93
        ],
        [
         "32",
         "Norman",
         "80",
         "M",
         "2024-11-10",
         "130",
         "34.1",
         118,
         91
        ],
        [
         "33",
         "Cynthia",
         "28",
         "F",
         "2024-10-06",
         "147",
         "25.5",
         143,
         97
        ],
        [
         "34",
         "Francisco",
         "31",
         "M",
         "2024-10-02",
         "121",
         "34.9",
         155,
         79
        ],
        [
         "35",
         "Jason",
         "59",
         "F",
         "2024-08-29",
         "136",
         "25.9",
         138,
         98
        ],
        [
         "36",
         "Jacqueline",
         "33",
         "M",
         "2025-02-07",
         "72",
         "28.2",
         114,
         80
        ],
        [
         "37",
         "Deborah",
         "32",
         "M",
         "2025-01-09",
         "160",
         "28.9",
         110,
         72
        ],
        [
         "38",
         "Cynthia",
         "32",
         "M",
         "2024-12-11",
         "112",
         "19.7",
         112,
         97
        ],
        [
         "39",
         "Jessica",
         "33",
         "F",
         "2024-07-20",
         "97",
         "27.4",
         152,
         85
        ],
        [
         "40",
         "Steven",
         "64",
         "F",
         "2024-08-30",
         "130",
         "31.8",
         125,
         95
        ],
        [
         "41",
         "Veronica",
         "30",
         "M",
         "2025-01-21",
         "125",
         "24.3",
         116,
         91
        ],
        [
         "42",
         "Hailey",
         "44",
         "F",
         "2024-08-11",
         "156",
         "29.3",
         156,
         71
        ],
        [
         "43",
         "Gabrielle",
         "59",
         "M",
         "2025-04-10",
         "113",
         "31.7",
         113,
         82
        ],
        [
         "44",
         "Kayla",
         "24",
         "M",
         "2024-06-08",
         "138",
         "25.9",
         122,
         76
        ],
        [
         "45",
         "Jeremy",
         "45",
         "M",
         "2024-05-30",
         "101",
         "32.9",
         127,
         84
        ],
        [
         "46",
         "Linda",
         "22",
         "F",
         "2024-10-20",
         "76",
         "29.3",
         145,
         73
        ],
        [
         "47",
         "Joseph",
         "52",
         "M",
         "2024-08-07",
         "100",
         "21.2",
         115,
         99
        ],
        [
         "48",
         "Robin",
         "49",
         "F",
         "2024-12-24",
         "121",
         "33.4",
         123,
         97
        ],
        [
         "49",
         "Nancy",
         "28",
         "F",
         "2024-09-17",
         "103",
         "33.8",
         110,
         82
        ],
        [
         "50",
         "Jason",
         "68",
         "F",
         "2024-11-27",
         "159",
         "34.3",
         128,
         83
        ],
        [
         "51",
         "Randall",
         "68",
         "F",
         "2025-05-08",
         "107",
         "22.1",
         119,
         76
        ],
        [
         "52",
         "Dawn",
         "21",
         "M",
         "2024-07-12",
         "77",
         "19.3",
         157,
         80
        ],
        [
         "53",
         "Joseph",
         "48",
         "M",
         "2024-08-21",
         "135",
         "19.8",
         113,
         100
        ],
        [
         "54",
         "Julie",
         "29",
         "M",
         "2024-12-13",
         "156",
         "32.7",
         148,
         72
        ],
        [
         "55",
         "Jose",
         "43",
         "M",
         "2024-12-31",
         "144",
         "28.3",
         146,
         77
        ],
        [
         "56",
         "Ross",
         "57",
         "M",
         "2024-12-30",
         "144",
         "27.8",
         136,
         91
        ],
        [
         "57",
         "Reginald",
         "38",
         "F",
         "2024-08-11",
         "110",
         "22.4",
         123,
         91
        ],
        [
         "58",
         "Wendy",
         "43",
         "M",
         "2024-07-10",
         "108",
         "26.0",
         152,
         90
        ],
        [
         "59",
         "William",
         "77",
         "M",
         "2024-06-22",
         "149",
         "35.0",
         110,
         84
        ],
        [
         "60",
         "Katelyn",
         "24",
         "M",
         "2025-04-17",
         "134",
         "22.9",
         144,
         76
        ],
        [
         "61",
         "Daniel",
         "77",
         "F",
         "2025-01-16",
         "101",
         "24.6",
         114,
         98
        ],
        [
         "62",
         "Ernest",
         "28",
         "F",
         "2025-02-06",
         "108",
         "28.6",
         144,
         92
        ],
        [
         "63",
         "Robert",
         "69",
         "M",
         "2024-06-11",
         "140",
         "23.4",
         152,
         96
        ],
        [
         "64",
         "Paul",
         "60",
         "M",
         "2025-01-04",
         "84",
         "33.2",
         118,
         78
        ],
        [
         "65",
         "Wendy",
         "65",
         "M",
         "2024-12-09",
         "147",
         "22.0",
         127,
         79
        ],
        [
         "66",
         "John",
         "39",
         "M",
         "2024-12-18",
         "103",
         "26.8",
         153,
         90
        ],
        [
         "67",
         "Michelle",
         "34",
         "M",
         "2024-05-22",
         "124",
         "32.2",
         115,
         90
        ],
        [
         "68",
         "Erin",
         "20",
         "M",
         "2024-07-01",
         "86",
         "29.0",
         131,
         94
        ],
        [
         "69",
         "Erin",
         "34",
         "M",
         "2024-12-12",
         "140",
         "30.1",
         157,
         84
        ],
        [
         "70",
         "Karen",
         "53",
         "M",
         "2025-03-12",
         "158",
         "33.4",
         117,
         72
        ],
        [
         "71",
         "Danielle",
         "52",
         "M",
         "2024-06-30",
         "140",
         "20.9",
         133,
         88
        ],
        [
         "72",
         "Kelly",
         "26",
         "M",
         "2024-07-18",
         "75",
         "33.3",
         129,
         81
        ],
        [
         "73",
         "Shawn",
         "31",
         "M",
         "2025-02-22",
         "115",
         "31.4",
         152,
         73
        ],
        [
         "74",
         "Nancy",
         "74",
         "F",
         "2024-08-28",
         "89",
         "33.8",
         149,
         93
        ],
        [
         "75",
         "Teresa",
         "33",
         "M",
         "2025-03-09",
         "122",
         "18.9",
         121,
         98
        ],
        [
         "76",
         "Guy",
         "65",
         "F",
         "2025-05-07",
         "122",
         "31.7",
         160,
         99
        ],
        [
         "77",
         "Daniel",
         "73",
         "M",
         "2025-01-15",
         "159",
         "20.3",
         127,
         75
        ],
        [
         "78",
         "Kenneth",
         "73",
         "M",
         "2025-01-21",
         "95",
         "32.0",
         140,
         77
        ],
        [
         "79",
         "William",
         "47",
         "F",
         "2024-08-03",
         "99",
         "22.2",
         129,
         96
        ],
        [
         "80",
         "Eric",
         "60",
         "M",
         "2025-03-10",
         "105",
         "32.8",
         135,
         80
        ],
        [
         "81",
         "Evan",
         "79",
         "F",
         "2025-03-16",
         "135",
         "25.1",
         132,
         90
        ],
        [
         "82",
         "Sandra",
         "80",
         "F",
         "2025-05-09",
         "103",
         "21.4",
         111,
         73
        ],
        [
         "83",
         "Aaron",
         "79",
         "F",
         "2024-09-20",
         "146",
         "25.7",
         112,
         73
        ],
        [
         "84",
         "Tracy",
         "64",
         "F",
         "2024-06-30",
         "135",
         "20.4",
         137,
         89
        ],
        [
         "85",
         "Sarah",
         "75",
         "M",
         "2025-04-24",
         "160",
         "25.7",
         126,
         71
        ],
        [
         "86",
         "Tricia",
         "51",
         "M",
         "2025-03-27",
         "78",
         "34.2",
         133,
         83
        ],
        [
         "87",
         "Kyle",
         "76",
         "F",
         "2024-06-09",
         "154",
         "32.5",
         149,
         80
        ],
        [
         "88",
         "John",
         "64",
         "F",
         "2024-12-24",
         "155",
         "25.2",
         142,
         79
        ],
        [
         "89",
         "Stacey",
         "43",
         "F",
         "2024-06-20",
         "94",
         "25.4",
         145,
         74
        ],
        [
         "90",
         "Jessica",
         "78",
         "F",
         "2025-03-30",
         "92",
         "28.7",
         153,
         93
        ],
        [
         "91",
         "Chad",
         "37",
         "F",
         "2025-03-09",
         "70",
         "23.5",
         145,
         96
        ],
        [
         "92",
         "Amanda",
         "31",
         "F",
         "2024-07-05",
         "147",
         "29.3",
         160,
         88
        ],
        [
         "93",
         "David",
         "47",
         "F",
         "2024-11-18",
         "97",
         "26.9",
         138,
         91
        ],
        [
         "94",
         "Stacey",
         "68",
         "M",
         "2024-07-21",
         "106",
         "27.0",
         152,
         72
        ],
        [
         "95",
         "Joseph",
         "58",
         "F",
         "2025-04-21",
         "100",
         "29.6",
         115,
         96
        ],
        [
         "96",
         "Catherine",
         "32",
         "M",
         "2024-08-08",
         "75",
         "22.5",
         119,
         70
        ],
        [
         "97",
         "Sarah",
         "48",
         "M",
         "2025-03-07",
         "150",
         "28.0",
         139,
         83
        ],
        [
         "98",
         "Jessica",
         "63",
         "F",
         "2024-08-04",
         "101",
         "20.9",
         141,
         82
        ],
        [
         "99",
         "Jennifer",
         "62",
         "M",
         "2024-10-19",
         "83",
         "31.3",
         158,
         97
        ],
        [
         "100",
         "Wanda",
         "32",
         "M",
         "2025-01-25",
         "129",
         "19.3",
         154,
         86
        ]
       ],
       "datasetInfos": [],
       "dbfsResultPath": null,
       "isJsonSchema": true,
       "metadata": {},
       "overflow": false,
       "plotOptions": {
        "customPlotOptions": {},
        "displayType": "table",
        "pivotAggregation": null,
        "pivotColumns": null,
        "xColumns": null,
        "yColumns": null
       },
       "removedWidgets": [],
       "schema": [
        {
         "metadata": "{}",
         "name": "PatientID",
         "type": "\"string\""
        },
        {
         "metadata": "{}",
         "name": "Name",
         "type": "\"string\""
        },
        {
         "metadata": "{}",
         "name": "Age",
         "type": "\"string\""
        },
        {
         "metadata": "{}",
         "name": "Gender",
         "type": "\"string\""
        },
        {
         "metadata": "{}",
         "name": "VisitDate",
         "type": "\"string\""
        },
        {
         "metadata": "{}",
         "name": "GlucoseLevel",
         "type": "\"string\""
        },
        {
         "metadata": "{}",
         "name": "BMI",
         "type": "\"string\""
        },
        {
         "metadata": "{}",
         "name": "SystolicBP",
         "type": "\"integer\""
        },
        {
         "metadata": "{}",
         "name": "DiastolicBP",
         "type": "\"integer\""
        }
       ],
       "type": "table"
      }
     },
     "output_type": "display_data"
    }
   ],
   "source": [
    "# The format is 120/80, we split on '/' and convert to integers\n",
    "\n",
    "from pyspark.sql.functions import split, col\n",
    "\n",
    "df = df.withColumn('SystolicBP', split(col('BloodPressure'), '/').getItem(0).cast('int'))\n",
    "df = df.withColumn('DiastolicBP', split(col('BloodPressure'), '/').getItem(1).cast('int'))\n",
    "\n",
    "# Remove original 'BloodPressure' column as it's now split\n",
    "df = df.drop('BloodPressure')\n",
    "df.display()"
   ]
  },
  {
   "cell_type": "markdown",
   "metadata": {
    "application/vnd.databricks.v1+cell": {
     "cellMetadata": {},
     "inputWidgets": {},
     "nuid": "08c41e8a-1800-4f14-87d0-7a26ad2c2420",
     "showTitle": false,
     "tableResultSettingsMap": {},
     "title": ""
    }
   },
   "source": [
    "### Step-3: Convert VisitDate from string to Datatype"
   ]
  },
  {
   "cell_type": "code",
   "execution_count": 0,
   "metadata": {
    "application/vnd.databricks.v1+cell": {
     "cellMetadata": {
      "byteLimit": 2048000,
      "rowLimit": 10000
     },
     "inputWidgets": {},
     "nuid": "d0045d26-791b-49aa-be5c-633891081891",
     "showTitle": false,
     "tableResultSettingsMap": {},
     "title": ""
    }
   },
   "outputs": [
    {
     "output_type": "display_data",
     "data": {
      "text/html": [
       "<style scoped>\n",
       "  .table-result-container {\n",
       "    max-height: 300px;\n",
       "    overflow: auto;\n",
       "  }\n",
       "  table, th, td {\n",
       "    border: 1px solid black;\n",
       "    border-collapse: collapse;\n",
       "  }\n",
       "  th, td {\n",
       "    padding: 5px;\n",
       "  }\n",
       "  th {\n",
       "    text-align: left;\n",
       "  }\n",
       "</style><div class='table-result-container'><table class='table-result'><thead style='background-color: white'><tr><th>PatientID</th><th>Name</th><th>Age</th><th>Gender</th><th>VisitDate</th><th>GlucoseLevel</th><th>BMI</th><th>SystolicBP</th><th>DiastolicBP</th></tr></thead><tbody><tr><td>1</td><td>Danielle</td><td>58</td><td>M</td><td>2024-05-27</td><td>105</td><td>22.5</td><td>111</td><td>93</td></tr><tr><td>2</td><td>Judith</td><td>26</td><td>M</td><td>2024-08-21</td><td>139</td><td>19.9</td><td>153</td><td>93</td></tr><tr><td>3</td><td>Jeffrey</td><td>45</td><td>M</td><td>2025-02-28</td><td>97</td><td>22.3</td><td>111</td><td>72</td></tr><tr><td>4</td><td>Curtis</td><td>56</td><td>M</td><td>2025-03-01</td><td>153</td><td>30.1</td><td>145</td><td>76</td></tr><tr><td>5</td><td>Patricia</td><td>44</td><td>M</td><td>2024-06-20</td><td>105</td><td>31.9</td><td>138</td><td>88</td></tr><tr><td>6</td><td>Brittany</td><td>18</td><td>M</td><td>2024-05-30</td><td>113</td><td>23.1</td><td>154</td><td>83</td></tr><tr><td>7</td><td>Anthony</td><td>31</td><td>F</td><td>2024-08-10</td><td>118</td><td>20.1</td><td>116</td><td>72</td></tr><tr><td>8</td><td>Jesse</td><td>72</td><td>F</td><td>2025-01-06</td><td>75</td><td>30.5</td><td>148</td><td>78</td></tr><tr><td>9</td><td>Anthony</td><td>52</td><td>M</td><td>2024-08-03</td><td>140</td><td>23.3</td><td>134</td><td>72</td></tr><tr><td>10</td><td>Jennifer</td><td>58</td><td>F</td><td>2025-02-14</td><td>160</td><td>19.6</td><td>146</td><td>76</td></tr><tr><td>11</td><td>Amy</td><td>60</td><td>M</td><td>2024-08-11</td><td>80</td><td>32.6</td><td>159</td><td>79</td></tr><tr><td>12</td><td>Shane</td><td>73</td><td>M</td><td>2024-09-03</td><td>128</td><td>29.0</td><td>134</td><td>78</td></tr><tr><td>13</td><td>Lisa</td><td>41</td><td>M</td><td>2024-05-20</td><td>96</td><td>29.6</td><td>133</td><td>81</td></tr><tr><td>14</td><td>Katherine</td><td>62</td><td>M</td><td>2024-07-19</td><td>91</td><td>27.3</td><td>148</td><td>90</td></tr><tr><td>15</td><td>Helen</td><td>33</td><td>M</td><td>2024-09-27</td><td>104</td><td>34.8</td><td>139</td><td>82</td></tr><tr><td>16</td><td>Joshua</td><td>58</td><td>M</td><td>2024-08-09</td><td>77</td><td>22.3</td><td>153</td><td>80</td></tr><tr><td>17</td><td>Susan</td><td>20</td><td>F</td><td>2024-09-25</td><td>78</td><td>22.0</td><td>135</td><td>78</td></tr><tr><td>18</td><td>Curtis</td><td>78</td><td>F</td><td>2024-10-12</td><td>133</td><td>25.0</td><td>123</td><td>90</td></tr><tr><td>19</td><td>Colin</td><td>76</td><td>F</td><td>2025-04-12</td><td>87</td><td>22.6</td><td>119</td><td>78</td></tr><tr><td>20</td><td>Maurice</td><td>53</td><td>F</td><td>2024-08-28</td><td>124</td><td>33.3</td><td>157</td><td>88</td></tr><tr><td>21</td><td>Lindsay</td><td>43</td><td>F</td><td>2025-02-25</td><td>135</td><td>26.6</td><td>124</td><td>74</td></tr><tr><td>22</td><td>Stephen</td><td>66</td><td>M</td><td>2024-07-05</td><td>150</td><td>21.1</td><td>117</td><td>74</td></tr><tr><td>23</td><td>Teresa</td><td>61</td><td>F</td><td>2024-10-12</td><td>119</td><td>24.8</td><td>148</td><td>72</td></tr><tr><td>24</td><td>Christian</td><td>47</td><td>F</td><td>2024-09-08</td><td>71</td><td>29.7</td><td>145</td><td>97</td></tr><tr><td>25</td><td>Maria</td><td>25</td><td>F</td><td>2025-01-13</td><td>113</td><td>20.3</td><td>159</td><td>90</td></tr><tr><td>26</td><td>Nicole</td><td>45</td><td>M</td><td>2024-10-05</td><td>103</td><td>34.5</td><td>139</td><td>70</td></tr><tr><td>27</td><td>Barbara</td><td>66</td><td>M</td><td>2025-02-15</td><td>83</td><td>32.9</td><td>142</td><td>99</td></tr><tr><td>28</td><td>Chad</td><td>37</td><td>M</td><td>2025-01-29</td><td>90</td><td>27.4</td><td>119</td><td>81</td></tr><tr><td>29</td><td>Jeremy</td><td>67</td><td>M</td><td>2024-09-07</td><td>132</td><td>18.8</td><td>148</td><td>80</td></tr><tr><td>30</td><td>Tracie</td><td>77</td><td>F</td><td>2025-04-15</td><td>77</td><td>22.5</td><td>129</td><td>77</td></tr><tr><td>31</td><td>Jesse</td><td>54</td><td>M</td><td>2024-06-26</td><td>132</td><td>32.0</td><td>115</td><td>93</td></tr><tr><td>32</td><td>Norman</td><td>80</td><td>M</td><td>2024-11-10</td><td>130</td><td>34.1</td><td>118</td><td>91</td></tr><tr><td>33</td><td>Cynthia</td><td>28</td><td>F</td><td>2024-10-06</td><td>147</td><td>25.5</td><td>143</td><td>97</td></tr><tr><td>34</td><td>Francisco</td><td>31</td><td>M</td><td>2024-10-02</td><td>121</td><td>34.9</td><td>155</td><td>79</td></tr><tr><td>35</td><td>Jason</td><td>59</td><td>F</td><td>2024-08-29</td><td>136</td><td>25.9</td><td>138</td><td>98</td></tr><tr><td>36</td><td>Jacqueline</td><td>33</td><td>M</td><td>2025-02-07</td><td>72</td><td>28.2</td><td>114</td><td>80</td></tr><tr><td>37</td><td>Deborah</td><td>32</td><td>M</td><td>2025-01-09</td><td>160</td><td>28.9</td><td>110</td><td>72</td></tr><tr><td>38</td><td>Cynthia</td><td>32</td><td>M</td><td>2024-12-11</td><td>112</td><td>19.7</td><td>112</td><td>97</td></tr><tr><td>39</td><td>Jessica</td><td>33</td><td>F</td><td>2024-07-20</td><td>97</td><td>27.4</td><td>152</td><td>85</td></tr><tr><td>40</td><td>Steven</td><td>64</td><td>F</td><td>2024-08-30</td><td>130</td><td>31.8</td><td>125</td><td>95</td></tr><tr><td>41</td><td>Veronica</td><td>30</td><td>M</td><td>2025-01-21</td><td>125</td><td>24.3</td><td>116</td><td>91</td></tr><tr><td>42</td><td>Hailey</td><td>44</td><td>F</td><td>2024-08-11</td><td>156</td><td>29.3</td><td>156</td><td>71</td></tr><tr><td>43</td><td>Gabrielle</td><td>59</td><td>M</td><td>2025-04-10</td><td>113</td><td>31.7</td><td>113</td><td>82</td></tr><tr><td>44</td><td>Kayla</td><td>24</td><td>M</td><td>2024-06-08</td><td>138</td><td>25.9</td><td>122</td><td>76</td></tr><tr><td>45</td><td>Jeremy</td><td>45</td><td>M</td><td>2024-05-30</td><td>101</td><td>32.9</td><td>127</td><td>84</td></tr><tr><td>46</td><td>Linda</td><td>22</td><td>F</td><td>2024-10-20</td><td>76</td><td>29.3</td><td>145</td><td>73</td></tr><tr><td>47</td><td>Joseph</td><td>52</td><td>M</td><td>2024-08-07</td><td>100</td><td>21.2</td><td>115</td><td>99</td></tr><tr><td>48</td><td>Robin</td><td>49</td><td>F</td><td>2024-12-24</td><td>121</td><td>33.4</td><td>123</td><td>97</td></tr><tr><td>49</td><td>Nancy</td><td>28</td><td>F</td><td>2024-09-17</td><td>103</td><td>33.8</td><td>110</td><td>82</td></tr><tr><td>50</td><td>Jason</td><td>68</td><td>F</td><td>2024-11-27</td><td>159</td><td>34.3</td><td>128</td><td>83</td></tr><tr><td>51</td><td>Randall</td><td>68</td><td>F</td><td>2025-05-08</td><td>107</td><td>22.1</td><td>119</td><td>76</td></tr><tr><td>52</td><td>Dawn</td><td>21</td><td>M</td><td>2024-07-12</td><td>77</td><td>19.3</td><td>157</td><td>80</td></tr><tr><td>53</td><td>Joseph</td><td>48</td><td>M</td><td>2024-08-21</td><td>135</td><td>19.8</td><td>113</td><td>100</td></tr><tr><td>54</td><td>Julie</td><td>29</td><td>M</td><td>2024-12-13</td><td>156</td><td>32.7</td><td>148</td><td>72</td></tr><tr><td>55</td><td>Jose</td><td>43</td><td>M</td><td>2024-12-31</td><td>144</td><td>28.3</td><td>146</td><td>77</td></tr><tr><td>56</td><td>Ross</td><td>57</td><td>M</td><td>2024-12-30</td><td>144</td><td>27.8</td><td>136</td><td>91</td></tr><tr><td>57</td><td>Reginald</td><td>38</td><td>F</td><td>2024-08-11</td><td>110</td><td>22.4</td><td>123</td><td>91</td></tr><tr><td>58</td><td>Wendy</td><td>43</td><td>M</td><td>2024-07-10</td><td>108</td><td>26.0</td><td>152</td><td>90</td></tr><tr><td>59</td><td>William</td><td>77</td><td>M</td><td>2024-06-22</td><td>149</td><td>35.0</td><td>110</td><td>84</td></tr><tr><td>60</td><td>Katelyn</td><td>24</td><td>M</td><td>2025-04-17</td><td>134</td><td>22.9</td><td>144</td><td>76</td></tr><tr><td>61</td><td>Daniel</td><td>77</td><td>F</td><td>2025-01-16</td><td>101</td><td>24.6</td><td>114</td><td>98</td></tr><tr><td>62</td><td>Ernest</td><td>28</td><td>F</td><td>2025-02-06</td><td>108</td><td>28.6</td><td>144</td><td>92</td></tr><tr><td>63</td><td>Robert</td><td>69</td><td>M</td><td>2024-06-11</td><td>140</td><td>23.4</td><td>152</td><td>96</td></tr><tr><td>64</td><td>Paul</td><td>60</td><td>M</td><td>2025-01-04</td><td>84</td><td>33.2</td><td>118</td><td>78</td></tr><tr><td>65</td><td>Wendy</td><td>65</td><td>M</td><td>2024-12-09</td><td>147</td><td>22.0</td><td>127</td><td>79</td></tr><tr><td>66</td><td>John</td><td>39</td><td>M</td><td>2024-12-18</td><td>103</td><td>26.8</td><td>153</td><td>90</td></tr><tr><td>67</td><td>Michelle</td><td>34</td><td>M</td><td>2024-05-22</td><td>124</td><td>32.2</td><td>115</td><td>90</td></tr><tr><td>68</td><td>Erin</td><td>20</td><td>M</td><td>2024-07-01</td><td>86</td><td>29.0</td><td>131</td><td>94</td></tr><tr><td>69</td><td>Erin</td><td>34</td><td>M</td><td>2024-12-12</td><td>140</td><td>30.1</td><td>157</td><td>84</td></tr><tr><td>70</td><td>Karen</td><td>53</td><td>M</td><td>2025-03-12</td><td>158</td><td>33.4</td><td>117</td><td>72</td></tr><tr><td>71</td><td>Danielle</td><td>52</td><td>M</td><td>2024-06-30</td><td>140</td><td>20.9</td><td>133</td><td>88</td></tr><tr><td>72</td><td>Kelly</td><td>26</td><td>M</td><td>2024-07-18</td><td>75</td><td>33.3</td><td>129</td><td>81</td></tr><tr><td>73</td><td>Shawn</td><td>31</td><td>M</td><td>2025-02-22</td><td>115</td><td>31.4</td><td>152</td><td>73</td></tr><tr><td>74</td><td>Nancy</td><td>74</td><td>F</td><td>2024-08-28</td><td>89</td><td>33.8</td><td>149</td><td>93</td></tr><tr><td>75</td><td>Teresa</td><td>33</td><td>M</td><td>2025-03-09</td><td>122</td><td>18.9</td><td>121</td><td>98</td></tr><tr><td>76</td><td>Guy</td><td>65</td><td>F</td><td>2025-05-07</td><td>122</td><td>31.7</td><td>160</td><td>99</td></tr><tr><td>77</td><td>Daniel</td><td>73</td><td>M</td><td>2025-01-15</td><td>159</td><td>20.3</td><td>127</td><td>75</td></tr><tr><td>78</td><td>Kenneth</td><td>73</td><td>M</td><td>2025-01-21</td><td>95</td><td>32.0</td><td>140</td><td>77</td></tr><tr><td>79</td><td>William</td><td>47</td><td>F</td><td>2024-08-03</td><td>99</td><td>22.2</td><td>129</td><td>96</td></tr><tr><td>80</td><td>Eric</td><td>60</td><td>M</td><td>2025-03-10</td><td>105</td><td>32.8</td><td>135</td><td>80</td></tr><tr><td>81</td><td>Evan</td><td>79</td><td>F</td><td>2025-03-16</td><td>135</td><td>25.1</td><td>132</td><td>90</td></tr><tr><td>82</td><td>Sandra</td><td>80</td><td>F</td><td>2025-05-09</td><td>103</td><td>21.4</td><td>111</td><td>73</td></tr><tr><td>83</td><td>Aaron</td><td>79</td><td>F</td><td>2024-09-20</td><td>146</td><td>25.7</td><td>112</td><td>73</td></tr><tr><td>84</td><td>Tracy</td><td>64</td><td>F</td><td>2024-06-30</td><td>135</td><td>20.4</td><td>137</td><td>89</td></tr><tr><td>85</td><td>Sarah</td><td>75</td><td>M</td><td>2025-04-24</td><td>160</td><td>25.7</td><td>126</td><td>71</td></tr><tr><td>86</td><td>Tricia</td><td>51</td><td>M</td><td>2025-03-27</td><td>78</td><td>34.2</td><td>133</td><td>83</td></tr><tr><td>87</td><td>Kyle</td><td>76</td><td>F</td><td>2024-06-09</td><td>154</td><td>32.5</td><td>149</td><td>80</td></tr><tr><td>88</td><td>John</td><td>64</td><td>F</td><td>2024-12-24</td><td>155</td><td>25.2</td><td>142</td><td>79</td></tr><tr><td>89</td><td>Stacey</td><td>43</td><td>F</td><td>2024-06-20</td><td>94</td><td>25.4</td><td>145</td><td>74</td></tr><tr><td>90</td><td>Jessica</td><td>78</td><td>F</td><td>2025-03-30</td><td>92</td><td>28.7</td><td>153</td><td>93</td></tr><tr><td>91</td><td>Chad</td><td>37</td><td>F</td><td>2025-03-09</td><td>70</td><td>23.5</td><td>145</td><td>96</td></tr><tr><td>92</td><td>Amanda</td><td>31</td><td>F</td><td>2024-07-05</td><td>147</td><td>29.3</td><td>160</td><td>88</td></tr><tr><td>93</td><td>David</td><td>47</td><td>F</td><td>2024-11-18</td><td>97</td><td>26.9</td><td>138</td><td>91</td></tr><tr><td>94</td><td>Stacey</td><td>68</td><td>M</td><td>2024-07-21</td><td>106</td><td>27.0</td><td>152</td><td>72</td></tr><tr><td>95</td><td>Joseph</td><td>58</td><td>F</td><td>2025-04-21</td><td>100</td><td>29.6</td><td>115</td><td>96</td></tr><tr><td>96</td><td>Catherine</td><td>32</td><td>M</td><td>2024-08-08</td><td>75</td><td>22.5</td><td>119</td><td>70</td></tr><tr><td>97</td><td>Sarah</td><td>48</td><td>M</td><td>2025-03-07</td><td>150</td><td>28.0</td><td>139</td><td>83</td></tr><tr><td>98</td><td>Jessica</td><td>63</td><td>F</td><td>2024-08-04</td><td>101</td><td>20.9</td><td>141</td><td>82</td></tr><tr><td>99</td><td>Jennifer</td><td>62</td><td>M</td><td>2024-10-19</td><td>83</td><td>31.3</td><td>158</td><td>97</td></tr><tr><td>100</td><td>Wanda</td><td>32</td><td>M</td><td>2025-01-25</td><td>129</td><td>19.3</td><td>154</td><td>86</td></tr></tbody></table></div>"
      ]
     },
     "metadata": {
      "application/vnd.databricks.v1+output": {
       "addedWidgets": {},
       "aggData": [],
       "aggError": "",
       "aggOverflow": false,
       "aggSchema": [],
       "aggSeriesLimitReached": false,
       "aggType": "",
       "arguments": {},
       "columnCustomDisplayInfos": {},
       "data": [
        [
         "1",
         "Danielle",
         "58",
         "M",
         "2024-05-27",
         "105",
         "22.5",
         111,
         93
        ],
        [
         "2",
         "Judith",
         "26",
         "M",
         "2024-08-21",
         "139",
         "19.9",
         153,
         93
        ],
        [
         "3",
         "Jeffrey",
         "45",
         "M",
         "2025-02-28",
         "97",
         "22.3",
         111,
         72
        ],
        [
         "4",
         "Curtis",
         "56",
         "M",
         "2025-03-01",
         "153",
         "30.1",
         145,
         76
        ],
        [
         "5",
         "Patricia",
         "44",
         "M",
         "2024-06-20",
         "105",
         "31.9",
         138,
         88
        ],
        [
         "6",
         "Brittany",
         "18",
         "M",
         "2024-05-30",
         "113",
         "23.1",
         154,
         83
        ],
        [
         "7",
         "Anthony",
         "31",
         "F",
         "2024-08-10",
         "118",
         "20.1",
         116,
         72
        ],
        [
         "8",
         "Jesse",
         "72",
         "F",
         "2025-01-06",
         "75",
         "30.5",
         148,
         78
        ],
        [
         "9",
         "Anthony",
         "52",
         "M",
         "2024-08-03",
         "140",
         "23.3",
         134,
         72
        ],
        [
         "10",
         "Jennifer",
         "58",
         "F",
         "2025-02-14",
         "160",
         "19.6",
         146,
         76
        ],
        [
         "11",
         "Amy",
         "60",
         "M",
         "2024-08-11",
         "80",
         "32.6",
         159,
         79
        ],
        [
         "12",
         "Shane",
         "73",
         "M",
         "2024-09-03",
         "128",
         "29.0",
         134,
         78
        ],
        [
         "13",
         "Lisa",
         "41",
         "M",
         "2024-05-20",
         "96",
         "29.6",
         133,
         81
        ],
        [
         "14",
         "Katherine",
         "62",
         "M",
         "2024-07-19",
         "91",
         "27.3",
         148,
         90
        ],
        [
         "15",
         "Helen",
         "33",
         "M",
         "2024-09-27",
         "104",
         "34.8",
         139,
         82
        ],
        [
         "16",
         "Joshua",
         "58",
         "M",
         "2024-08-09",
         "77",
         "22.3",
         153,
         80
        ],
        [
         "17",
         "Susan",
         "20",
         "F",
         "2024-09-25",
         "78",
         "22.0",
         135,
         78
        ],
        [
         "18",
         "Curtis",
         "78",
         "F",
         "2024-10-12",
         "133",
         "25.0",
         123,
         90
        ],
        [
         "19",
         "Colin",
         "76",
         "F",
         "2025-04-12",
         "87",
         "22.6",
         119,
         78
        ],
        [
         "20",
         "Maurice",
         "53",
         "F",
         "2024-08-28",
         "124",
         "33.3",
         157,
         88
        ],
        [
         "21",
         "Lindsay",
         "43",
         "F",
         "2025-02-25",
         "135",
         "26.6",
         124,
         74
        ],
        [
         "22",
         "Stephen",
         "66",
         "M",
         "2024-07-05",
         "150",
         "21.1",
         117,
         74
        ],
        [
         "23",
         "Teresa",
         "61",
         "F",
         "2024-10-12",
         "119",
         "24.8",
         148,
         72
        ],
        [
         "24",
         "Christian",
         "47",
         "F",
         "2024-09-08",
         "71",
         "29.7",
         145,
         97
        ],
        [
         "25",
         "Maria",
         "25",
         "F",
         "2025-01-13",
         "113",
         "20.3",
         159,
         90
        ],
        [
         "26",
         "Nicole",
         "45",
         "M",
         "2024-10-05",
         "103",
         "34.5",
         139,
         70
        ],
        [
         "27",
         "Barbara",
         "66",
         "M",
         "2025-02-15",
         "83",
         "32.9",
         142,
         99
        ],
        [
         "28",
         "Chad",
         "37",
         "M",
         "2025-01-29",
         "90",
         "27.4",
         119,
         81
        ],
        [
         "29",
         "Jeremy",
         "67",
         "M",
         "2024-09-07",
         "132",
         "18.8",
         148,
         80
        ],
        [
         "30",
         "Tracie",
         "77",
         "F",
         "2025-04-15",
         "77",
         "22.5",
         129,
         77
        ],
        [
         "31",
         "Jesse",
         "54",
         "M",
         "2024-06-26",
         "132",
         "32.0",
         115,
         93
        ],
        [
         "32",
         "Norman",
         "80",
         "M",
         "2024-11-10",
         "130",
         "34.1",
         118,
         91
        ],
        [
         "33",
         "Cynthia",
         "28",
         "F",
         "2024-10-06",
         "147",
         "25.5",
         143,
         97
        ],
        [
         "34",
         "Francisco",
         "31",
         "M",
         "2024-10-02",
         "121",
         "34.9",
         155,
         79
        ],
        [
         "35",
         "Jason",
         "59",
         "F",
         "2024-08-29",
         "136",
         "25.9",
         138,
         98
        ],
        [
         "36",
         "Jacqueline",
         "33",
         "M",
         "2025-02-07",
         "72",
         "28.2",
         114,
         80
        ],
        [
         "37",
         "Deborah",
         "32",
         "M",
         "2025-01-09",
         "160",
         "28.9",
         110,
         72
        ],
        [
         "38",
         "Cynthia",
         "32",
         "M",
         "2024-12-11",
         "112",
         "19.7",
         112,
         97
        ],
        [
         "39",
         "Jessica",
         "33",
         "F",
         "2024-07-20",
         "97",
         "27.4",
         152,
         85
        ],
        [
         "40",
         "Steven",
         "64",
         "F",
         "2024-08-30",
         "130",
         "31.8",
         125,
         95
        ],
        [
         "41",
         "Veronica",
         "30",
         "M",
         "2025-01-21",
         "125",
         "24.3",
         116,
         91
        ],
        [
         "42",
         "Hailey",
         "44",
         "F",
         "2024-08-11",
         "156",
         "29.3",
         156,
         71
        ],
        [
         "43",
         "Gabrielle",
         "59",
         "M",
         "2025-04-10",
         "113",
         "31.7",
         113,
         82
        ],
        [
         "44",
         "Kayla",
         "24",
         "M",
         "2024-06-08",
         "138",
         "25.9",
         122,
         76
        ],
        [
         "45",
         "Jeremy",
         "45",
         "M",
         "2024-05-30",
         "101",
         "32.9",
         127,
         84
        ],
        [
         "46",
         "Linda",
         "22",
         "F",
         "2024-10-20",
         "76",
         "29.3",
         145,
         73
        ],
        [
         "47",
         "Joseph",
         "52",
         "M",
         "2024-08-07",
         "100",
         "21.2",
         115,
         99
        ],
        [
         "48",
         "Robin",
         "49",
         "F",
         "2024-12-24",
         "121",
         "33.4",
         123,
         97
        ],
        [
         "49",
         "Nancy",
         "28",
         "F",
         "2024-09-17",
         "103",
         "33.8",
         110,
         82
        ],
        [
         "50",
         "Jason",
         "68",
         "F",
         "2024-11-27",
         "159",
         "34.3",
         128,
         83
        ],
        [
         "51",
         "Randall",
         "68",
         "F",
         "2025-05-08",
         "107",
         "22.1",
         119,
         76
        ],
        [
         "52",
         "Dawn",
         "21",
         "M",
         "2024-07-12",
         "77",
         "19.3",
         157,
         80
        ],
        [
         "53",
         "Joseph",
         "48",
         "M",
         "2024-08-21",
         "135",
         "19.8",
         113,
         100
        ],
        [
         "54",
         "Julie",
         "29",
         "M",
         "2024-12-13",
         "156",
         "32.7",
         148,
         72
        ],
        [
         "55",
         "Jose",
         "43",
         "M",
         "2024-12-31",
         "144",
         "28.3",
         146,
         77
        ],
        [
         "56",
         "Ross",
         "57",
         "M",
         "2024-12-30",
         "144",
         "27.8",
         136,
         91
        ],
        [
         "57",
         "Reginald",
         "38",
         "F",
         "2024-08-11",
         "110",
         "22.4",
         123,
         91
        ],
        [
         "58",
         "Wendy",
         "43",
         "M",
         "2024-07-10",
         "108",
         "26.0",
         152,
         90
        ],
        [
         "59",
         "William",
         "77",
         "M",
         "2024-06-22",
         "149",
         "35.0",
         110,
         84
        ],
        [
         "60",
         "Katelyn",
         "24",
         "M",
         "2025-04-17",
         "134",
         "22.9",
         144,
         76
        ],
        [
         "61",
         "Daniel",
         "77",
         "F",
         "2025-01-16",
         "101",
         "24.6",
         114,
         98
        ],
        [
         "62",
         "Ernest",
         "28",
         "F",
         "2025-02-06",
         "108",
         "28.6",
         144,
         92
        ],
        [
         "63",
         "Robert",
         "69",
         "M",
         "2024-06-11",
         "140",
         "23.4",
         152,
         96
        ],
        [
         "64",
         "Paul",
         "60",
         "M",
         "2025-01-04",
         "84",
         "33.2",
         118,
         78
        ],
        [
         "65",
         "Wendy",
         "65",
         "M",
         "2024-12-09",
         "147",
         "22.0",
         127,
         79
        ],
        [
         "66",
         "John",
         "39",
         "M",
         "2024-12-18",
         "103",
         "26.8",
         153,
         90
        ],
        [
         "67",
         "Michelle",
         "34",
         "M",
         "2024-05-22",
         "124",
         "32.2",
         115,
         90
        ],
        [
         "68",
         "Erin",
         "20",
         "M",
         "2024-07-01",
         "86",
         "29.0",
         131,
         94
        ],
        [
         "69",
         "Erin",
         "34",
         "M",
         "2024-12-12",
         "140",
         "30.1",
         157,
         84
        ],
        [
         "70",
         "Karen",
         "53",
         "M",
         "2025-03-12",
         "158",
         "33.4",
         117,
         72
        ],
        [
         "71",
         "Danielle",
         "52",
         "M",
         "2024-06-30",
         "140",
         "20.9",
         133,
         88
        ],
        [
         "72",
         "Kelly",
         "26",
         "M",
         "2024-07-18",
         "75",
         "33.3",
         129,
         81
        ],
        [
         "73",
         "Shawn",
         "31",
         "M",
         "2025-02-22",
         "115",
         "31.4",
         152,
         73
        ],
        [
         "74",
         "Nancy",
         "74",
         "F",
         "2024-08-28",
         "89",
         "33.8",
         149,
         93
        ],
        [
         "75",
         "Teresa",
         "33",
         "M",
         "2025-03-09",
         "122",
         "18.9",
         121,
         98
        ],
        [
         "76",
         "Guy",
         "65",
         "F",
         "2025-05-07",
         "122",
         "31.7",
         160,
         99
        ],
        [
         "77",
         "Daniel",
         "73",
         "M",
         "2025-01-15",
         "159",
         "20.3",
         127,
         75
        ],
        [
         "78",
         "Kenneth",
         "73",
         "M",
         "2025-01-21",
         "95",
         "32.0",
         140,
         77
        ],
        [
         "79",
         "William",
         "47",
         "F",
         "2024-08-03",
         "99",
         "22.2",
         129,
         96
        ],
        [
         "80",
         "Eric",
         "60",
         "M",
         "2025-03-10",
         "105",
         "32.8",
         135,
         80
        ],
        [
         "81",
         "Evan",
         "79",
         "F",
         "2025-03-16",
         "135",
         "25.1",
         132,
         90
        ],
        [
         "82",
         "Sandra",
         "80",
         "F",
         "2025-05-09",
         "103",
         "21.4",
         111,
         73
        ],
        [
         "83",
         "Aaron",
         "79",
         "F",
         "2024-09-20",
         "146",
         "25.7",
         112,
         73
        ],
        [
         "84",
         "Tracy",
         "64",
         "F",
         "2024-06-30",
         "135",
         "20.4",
         137,
         89
        ],
        [
         "85",
         "Sarah",
         "75",
         "M",
         "2025-04-24",
         "160",
         "25.7",
         126,
         71
        ],
        [
         "86",
         "Tricia",
         "51",
         "M",
         "2025-03-27",
         "78",
         "34.2",
         133,
         83
        ],
        [
         "87",
         "Kyle",
         "76",
         "F",
         "2024-06-09",
         "154",
         "32.5",
         149,
         80
        ],
        [
         "88",
         "John",
         "64",
         "F",
         "2024-12-24",
         "155",
         "25.2",
         142,
         79
        ],
        [
         "89",
         "Stacey",
         "43",
         "F",
         "2024-06-20",
         "94",
         "25.4",
         145,
         74
        ],
        [
         "90",
         "Jessica",
         "78",
         "F",
         "2025-03-30",
         "92",
         "28.7",
         153,
         93
        ],
        [
         "91",
         "Chad",
         "37",
         "F",
         "2025-03-09",
         "70",
         "23.5",
         145,
         96
        ],
        [
         "92",
         "Amanda",
         "31",
         "F",
         "2024-07-05",
         "147",
         "29.3",
         160,
         88
        ],
        [
         "93",
         "David",
         "47",
         "F",
         "2024-11-18",
         "97",
         "26.9",
         138,
         91
        ],
        [
         "94",
         "Stacey",
         "68",
         "M",
         "2024-07-21",
         "106",
         "27.0",
         152,
         72
        ],
        [
         "95",
         "Joseph",
         "58",
         "F",
         "2025-04-21",
         "100",
         "29.6",
         115,
         96
        ],
        [
         "96",
         "Catherine",
         "32",
         "M",
         "2024-08-08",
         "75",
         "22.5",
         119,
         70
        ],
        [
         "97",
         "Sarah",
         "48",
         "M",
         "2025-03-07",
         "150",
         "28.0",
         139,
         83
        ],
        [
         "98",
         "Jessica",
         "63",
         "F",
         "2024-08-04",
         "101",
         "20.9",
         141,
         82
        ],
        [
         "99",
         "Jennifer",
         "62",
         "M",
         "2024-10-19",
         "83",
         "31.3",
         158,
         97
        ],
        [
         "100",
         "Wanda",
         "32",
         "M",
         "2025-01-25",
         "129",
         "19.3",
         154,
         86
        ]
       ],
       "datasetInfos": [],
       "dbfsResultPath": null,
       "isJsonSchema": true,
       "metadata": {},
       "overflow": false,
       "plotOptions": {
        "customPlotOptions": {},
        "displayType": "table",
        "pivotAggregation": null,
        "pivotColumns": null,
        "xColumns": null,
        "yColumns": null
       },
       "removedWidgets": [],
       "schema": [
        {
         "metadata": "{}",
         "name": "PatientID",
         "type": "\"string\""
        },
        {
         "metadata": "{}",
         "name": "Name",
         "type": "\"string\""
        },
        {
         "metadata": "{}",
         "name": "Age",
         "type": "\"string\""
        },
        {
         "metadata": "{}",
         "name": "Gender",
         "type": "\"string\""
        },
        {
         "metadata": "{}",
         "name": "VisitDate",
         "type": "\"date\""
        },
        {
         "metadata": "{}",
         "name": "GlucoseLevel",
         "type": "\"string\""
        },
        {
         "metadata": "{}",
         "name": "BMI",
         "type": "\"string\""
        },
        {
         "metadata": "{}",
         "name": "SystolicBP",
         "type": "\"integer\""
        },
        {
         "metadata": "{}",
         "name": "DiastolicBP",
         "type": "\"integer\""
        }
       ],
       "type": "table"
      }
     },
     "output_type": "display_data"
    }
   ],
   "source": [
    "from pyspark.sql.functions import to_date\n",
    "\n",
    "df = df.withColumn('VisitDate', to_date(col('Visitdate'), 'yyyy-MM-dd'))\n",
    "df.display()"
   ]
  },
  {
   "cell_type": "markdown",
   "metadata": {
    "application/vnd.databricks.v1+cell": {
     "cellMetadata": {},
     "inputWidgets": {},
     "nuid": "72f73276-ad6c-4414-afd9-e1abbd75d6c6",
     "showTitle": false,
     "tableResultSettingsMap": {},
     "title": ""
    }
   },
   "source": [
    "### Step-4: Create the Date dimension table"
   ]
  },
  {
   "cell_type": "code",
   "execution_count": 0,
   "metadata": {
    "application/vnd.databricks.v1+cell": {
     "cellMetadata": {
      "byteLimit": 2048000,
      "rowLimit": 10000
     },
     "inputWidgets": {},
     "nuid": "298f9918-b854-480d-81a0-d0d962560fd3",
     "showTitle": false,
     "tableResultSettingsMap": {},
     "title": ""
    }
   },
   "outputs": [],
   "source": [
    "# Extract useful components like year, month, day weekday and generate a dateID\n",
    "\n",
    "from pyspark.sql.functions import date_format, year, month, dayofmonth, dayofweek\n",
    "date_dim = df.select('VisitDate').distinct()\n",
    "\n",
    "# Creating surrogate key 'DateID' in format YYYYMMDD\n",
    "\n",
    "date_dim = date_dim.withColumn('DateID', date_format('VisitDate', 'yyyyMMdd').cast('int'))\\\n",
    "  .withColumn('Year', year('VisitDate'))\\\n",
    "    .withColumn('Month', month('VisitDate'))\\\n",
    "      .withColumn('Day', dayofmonth('VisitDate'))\\\n",
    "        .withColumn('Weekday', dayofweek('VisitDate'))"
   ]
  },
  {
   "cell_type": "markdown",
   "metadata": {
    "application/vnd.databricks.v1+cell": {
     "cellMetadata": {},
     "inputWidgets": {},
     "nuid": "651892fd-36be-40a6-be0f-4f6a14ad03f0",
     "showTitle": false,
     "tableResultSettingsMap": {},
     "title": ""
    }
   },
   "source": [
    "### step-5: Create the patient dimension table "
   ]
  },
  {
   "cell_type": "code",
   "execution_count": 0,
   "metadata": {
    "application/vnd.databricks.v1+cell": {
     "cellMetadata": {
      "byteLimit": 2048000,
      "rowLimit": 10000
     },
     "inputWidgets": {},
     "nuid": "fd9f10d6-6363-4771-8a91-f16f40f01215",
     "showTitle": false,
     "tableResultSettingsMap": {},
     "title": ""
    }
   },
   "outputs": [
    {
     "output_type": "display_data",
     "data": {
      "text/html": [
       "<style scoped>\n",
       "  .table-result-container {\n",
       "    max-height: 300px;\n",
       "    overflow: auto;\n",
       "  }\n",
       "  table, th, td {\n",
       "    border: 1px solid black;\n",
       "    border-collapse: collapse;\n",
       "  }\n",
       "  th, td {\n",
       "    padding: 5px;\n",
       "  }\n",
       "  th {\n",
       "    text-align: left;\n",
       "  }\n",
       "</style><div class='table-result-container'><table class='table-result'><thead style='background-color: white'><tr><th>PatientID</th><th>Name</th><th>Age</th><th>Gender</th></tr></thead><tbody><tr><td>12</td><td>Shane</td><td>73</td><td>M</td></tr><tr><td>67</td><td>Michelle</td><td>34</td><td>M</td></tr><tr><td>41</td><td>Veronica</td><td>30</td><td>M</td></tr><tr><td>52</td><td>Dawn</td><td>21</td><td>M</td></tr><tr><td>84</td><td>Tracy</td><td>64</td><td>F</td></tr><tr><td>10</td><td>Jennifer</td><td>58</td><td>F</td></tr><tr><td>60</td><td>Katelyn</td><td>24</td><td>M</td></tr><tr><td>58</td><td>Wendy</td><td>43</td><td>M</td></tr><tr><td>25</td><td>Maria</td><td>25</td><td>F</td></tr><tr><td>2</td><td>Judith</td><td>26</td><td>M</td></tr><tr><td>50</td><td>Jason</td><td>68</td><td>F</td></tr><tr><td>61</td><td>Daniel</td><td>77</td><td>F</td></tr><tr><td>30</td><td>Tracie</td><td>77</td><td>F</td></tr><tr><td>42</td><td>Hailey</td><td>44</td><td>F</td></tr><tr><td>69</td><td>Erin</td><td>34</td><td>M</td></tr><tr><td>35</td><td>Jason</td><td>59</td><td>F</td></tr><tr><td>71</td><td>Danielle</td><td>52</td><td>M</td></tr><tr><td>3</td><td>Jeffrey</td><td>45</td><td>M</td></tr><tr><td>37</td><td>Deborah</td><td>32</td><td>M</td></tr><tr><td>27</td><td>Barbara</td><td>66</td><td>M</td></tr><tr><td>33</td><td>Cynthia</td><td>28</td><td>F</td></tr><tr><td>75</td><td>Teresa</td><td>33</td><td>M</td></tr><tr><td>97</td><td>Sarah</td><td>48</td><td>M</td></tr><tr><td>70</td><td>Karen</td><td>53</td><td>M</td></tr><tr><td>51</td><td>Randall</td><td>68</td><td>F</td></tr><tr><td>78</td><td>Kenneth</td><td>73</td><td>M</td></tr><tr><td>82</td><td>Sandra</td><td>80</td><td>F</td></tr><tr><td>56</td><td>Ross</td><td>57</td><td>M</td></tr><tr><td>17</td><td>Susan</td><td>20</td><td>F</td></tr><tr><td>39</td><td>Jessica</td><td>33</td><td>F</td></tr><tr><td>32</td><td>Norman</td><td>80</td><td>M</td></tr><tr><td>65</td><td>Wendy</td><td>65</td><td>M</td></tr><tr><td>79</td><td>William</td><td>47</td><td>F</td></tr><tr><td>31</td><td>Jesse</td><td>54</td><td>M</td></tr><tr><td>1</td><td>Danielle</td><td>58</td><td>M</td></tr><tr><td>85</td><td>Sarah</td><td>75</td><td>M</td></tr><tr><td>91</td><td>Chad</td><td>37</td><td>F</td></tr><tr><td>83</td><td>Aaron</td><td>79</td><td>F</td></tr><tr><td>24</td><td>Christian</td><td>47</td><td>F</td></tr><tr><td>94</td><td>Stacey</td><td>68</td><td>M</td></tr><tr><td>9</td><td>Anthony</td><td>52</td><td>M</td></tr><tr><td>46</td><td>Linda</td><td>22</td><td>F</td></tr><tr><td>68</td><td>Erin</td><td>20</td><td>M</td></tr><tr><td>5</td><td>Patricia</td><td>44</td><td>M</td></tr><tr><td>34</td><td>Francisco</td><td>31</td><td>M</td></tr><tr><td>23</td><td>Teresa</td><td>61</td><td>F</td></tr><tr><td>99</td><td>Jennifer</td><td>62</td><td>M</td></tr><tr><td>26</td><td>Nicole</td><td>45</td><td>M</td></tr><tr><td>36</td><td>Jacqueline</td><td>33</td><td>M</td></tr><tr><td>96</td><td>Catherine</td><td>32</td><td>M</td></tr><tr><td>11</td><td>Amy</td><td>60</td><td>M</td></tr><tr><td>66</td><td>John</td><td>39</td><td>M</td></tr><tr><td>81</td><td>Evan</td><td>79</td><td>F</td></tr><tr><td>44</td><td>Kayla</td><td>24</td><td>M</td></tr><tr><td>28</td><td>Chad</td><td>37</td><td>M</td></tr><tr><td>43</td><td>Gabrielle</td><td>59</td><td>M</td></tr><tr><td>63</td><td>Robert</td><td>69</td><td>M</td></tr><tr><td>100</td><td>Wanda</td><td>32</td><td>M</td></tr><tr><td>93</td><td>David</td><td>47</td><td>F</td></tr><tr><td>86</td><td>Tricia</td><td>51</td><td>M</td></tr><tr><td>59</td><td>William</td><td>77</td><td>M</td></tr><tr><td>14</td><td>Katherine</td><td>62</td><td>M</td></tr><tr><td>92</td><td>Amanda</td><td>31</td><td>F</td></tr><tr><td>54</td><td>Julie</td><td>29</td><td>M</td></tr><tr><td>53</td><td>Joseph</td><td>48</td><td>M</td></tr><tr><td>55</td><td>Jose</td><td>43</td><td>M</td></tr><tr><td>47</td><td>Joseph</td><td>52</td><td>M</td></tr><tr><td>22</td><td>Stephen</td><td>66</td><td>M</td></tr><tr><td>89</td><td>Stacey</td><td>43</td><td>F</td></tr><tr><td>15</td><td>Helen</td><td>33</td><td>M</td></tr><tr><td>7</td><td>Anthony</td><td>31</td><td>F</td></tr><tr><td>98</td><td>Jessica</td><td>63</td><td>F</td></tr><tr><td>8</td><td>Jesse</td><td>72</td><td>F</td></tr><tr><td>4</td><td>Curtis</td><td>56</td><td>M</td></tr><tr><td>73</td><td>Shawn</td><td>31</td><td>M</td></tr><tr><td>13</td><td>Lisa</td><td>41</td><td>M</td></tr><tr><td>49</td><td>Nancy</td><td>28</td><td>F</td></tr><tr><td>48</td><td>Robin</td><td>49</td><td>F</td></tr><tr><td>88</td><td>John</td><td>64</td><td>F</td></tr><tr><td>74</td><td>Nancy</td><td>74</td><td>F</td></tr><tr><td>87</td><td>Kyle</td><td>76</td><td>F</td></tr><tr><td>19</td><td>Colin</td><td>76</td><td>F</td></tr><tr><td>76</td><td>Guy</td><td>65</td><td>F</td></tr><tr><td>6</td><td>Brittany</td><td>18</td><td>M</td></tr><tr><td>62</td><td>Ernest</td><td>28</td><td>F</td></tr><tr><td>18</td><td>Curtis</td><td>78</td><td>F</td></tr><tr><td>45</td><td>Jeremy</td><td>45</td><td>M</td></tr><tr><td>20</td><td>Maurice</td><td>53</td><td>F</td></tr><tr><td>64</td><td>Paul</td><td>60</td><td>M</td></tr><tr><td>90</td><td>Jessica</td><td>78</td><td>F</td></tr><tr><td>38</td><td>Cynthia</td><td>32</td><td>M</td></tr><tr><td>29</td><td>Jeremy</td><td>67</td><td>M</td></tr><tr><td>95</td><td>Joseph</td><td>58</td><td>F</td></tr><tr><td>21</td><td>Lindsay</td><td>43</td><td>F</td></tr><tr><td>57</td><td>Reginald</td><td>38</td><td>F</td></tr><tr><td>16</td><td>Joshua</td><td>58</td><td>M</td></tr><tr><td>77</td><td>Daniel</td><td>73</td><td>M</td></tr><tr><td>40</td><td>Steven</td><td>64</td><td>F</td></tr><tr><td>72</td><td>Kelly</td><td>26</td><td>M</td></tr><tr><td>80</td><td>Eric</td><td>60</td><td>M</td></tr></tbody></table></div>"
      ]
     },
     "metadata": {
      "application/vnd.databricks.v1+output": {
       "addedWidgets": {},
       "aggData": [],
       "aggError": "",
       "aggOverflow": false,
       "aggSchema": [],
       "aggSeriesLimitReached": false,
       "aggType": "",
       "arguments": {},
       "columnCustomDisplayInfos": {},
       "data": [
        [
         "12",
         "Shane",
         "73",
         "M"
        ],
        [
         "67",
         "Michelle",
         "34",
         "M"
        ],
        [
         "41",
         "Veronica",
         "30",
         "M"
        ],
        [
         "52",
         "Dawn",
         "21",
         "M"
        ],
        [
         "84",
         "Tracy",
         "64",
         "F"
        ],
        [
         "10",
         "Jennifer",
         "58",
         "F"
        ],
        [
         "60",
         "Katelyn",
         "24",
         "M"
        ],
        [
         "58",
         "Wendy",
         "43",
         "M"
        ],
        [
         "25",
         "Maria",
         "25",
         "F"
        ],
        [
         "2",
         "Judith",
         "26",
         "M"
        ],
        [
         "50",
         "Jason",
         "68",
         "F"
        ],
        [
         "61",
         "Daniel",
         "77",
         "F"
        ],
        [
         "30",
         "Tracie",
         "77",
         "F"
        ],
        [
         "42",
         "Hailey",
         "44",
         "F"
        ],
        [
         "69",
         "Erin",
         "34",
         "M"
        ],
        [
         "35",
         "Jason",
         "59",
         "F"
        ],
        [
         "71",
         "Danielle",
         "52",
         "M"
        ],
        [
         "3",
         "Jeffrey",
         "45",
         "M"
        ],
        [
         "37",
         "Deborah",
         "32",
         "M"
        ],
        [
         "27",
         "Barbara",
         "66",
         "M"
        ],
        [
         "33",
         "Cynthia",
         "28",
         "F"
        ],
        [
         "75",
         "Teresa",
         "33",
         "M"
        ],
        [
         "97",
         "Sarah",
         "48",
         "M"
        ],
        [
         "70",
         "Karen",
         "53",
         "M"
        ],
        [
         "51",
         "Randall",
         "68",
         "F"
        ],
        [
         "78",
         "Kenneth",
         "73",
         "M"
        ],
        [
         "82",
         "Sandra",
         "80",
         "F"
        ],
        [
         "56",
         "Ross",
         "57",
         "M"
        ],
        [
         "17",
         "Susan",
         "20",
         "F"
        ],
        [
         "39",
         "Jessica",
         "33",
         "F"
        ],
        [
         "32",
         "Norman",
         "80",
         "M"
        ],
        [
         "65",
         "Wendy",
         "65",
         "M"
        ],
        [
         "79",
         "William",
         "47",
         "F"
        ],
        [
         "31",
         "Jesse",
         "54",
         "M"
        ],
        [
         "1",
         "Danielle",
         "58",
         "M"
        ],
        [
         "85",
         "Sarah",
         "75",
         "M"
        ],
        [
         "91",
         "Chad",
         "37",
         "F"
        ],
        [
         "83",
         "Aaron",
         "79",
         "F"
        ],
        [
         "24",
         "Christian",
         "47",
         "F"
        ],
        [
         "94",
         "Stacey",
         "68",
         "M"
        ],
        [
         "9",
         "Anthony",
         "52",
         "M"
        ],
        [
         "46",
         "Linda",
         "22",
         "F"
        ],
        [
         "68",
         "Erin",
         "20",
         "M"
        ],
        [
         "5",
         "Patricia",
         "44",
         "M"
        ],
        [
         "34",
         "Francisco",
         "31",
         "M"
        ],
        [
         "23",
         "Teresa",
         "61",
         "F"
        ],
        [
         "99",
         "Jennifer",
         "62",
         "M"
        ],
        [
         "26",
         "Nicole",
         "45",
         "M"
        ],
        [
         "36",
         "Jacqueline",
         "33",
         "M"
        ],
        [
         "96",
         "Catherine",
         "32",
         "M"
        ],
        [
         "11",
         "Amy",
         "60",
         "M"
        ],
        [
         "66",
         "John",
         "39",
         "M"
        ],
        [
         "81",
         "Evan",
         "79",
         "F"
        ],
        [
         "44",
         "Kayla",
         "24",
         "M"
        ],
        [
         "28",
         "Chad",
         "37",
         "M"
        ],
        [
         "43",
         "Gabrielle",
         "59",
         "M"
        ],
        [
         "63",
         "Robert",
         "69",
         "M"
        ],
        [
         "100",
         "Wanda",
         "32",
         "M"
        ],
        [
         "93",
         "David",
         "47",
         "F"
        ],
        [
         "86",
         "Tricia",
         "51",
         "M"
        ],
        [
         "59",
         "William",
         "77",
         "M"
        ],
        [
         "14",
         "Katherine",
         "62",
         "M"
        ],
        [
         "92",
         "Amanda",
         "31",
         "F"
        ],
        [
         "54",
         "Julie",
         "29",
         "M"
        ],
        [
         "53",
         "Joseph",
         "48",
         "M"
        ],
        [
         "55",
         "Jose",
         "43",
         "M"
        ],
        [
         "47",
         "Joseph",
         "52",
         "M"
        ],
        [
         "22",
         "Stephen",
         "66",
         "M"
        ],
        [
         "89",
         "Stacey",
         "43",
         "F"
        ],
        [
         "15",
         "Helen",
         "33",
         "M"
        ],
        [
         "7",
         "Anthony",
         "31",
         "F"
        ],
        [
         "98",
         "Jessica",
         "63",
         "F"
        ],
        [
         "8",
         "Jesse",
         "72",
         "F"
        ],
        [
         "4",
         "Curtis",
         "56",
         "M"
        ],
        [
         "73",
         "Shawn",
         "31",
         "M"
        ],
        [
         "13",
         "Lisa",
         "41",
         "M"
        ],
        [
         "49",
         "Nancy",
         "28",
         "F"
        ],
        [
         "48",
         "Robin",
         "49",
         "F"
        ],
        [
         "88",
         "John",
         "64",
         "F"
        ],
        [
         "74",
         "Nancy",
         "74",
         "F"
        ],
        [
         "87",
         "Kyle",
         "76",
         "F"
        ],
        [
         "19",
         "Colin",
         "76",
         "F"
        ],
        [
         "76",
         "Guy",
         "65",
         "F"
        ],
        [
         "6",
         "Brittany",
         "18",
         "M"
        ],
        [
         "62",
         "Ernest",
         "28",
         "F"
        ],
        [
         "18",
         "Curtis",
         "78",
         "F"
        ],
        [
         "45",
         "Jeremy",
         "45",
         "M"
        ],
        [
         "20",
         "Maurice",
         "53",
         "F"
        ],
        [
         "64",
         "Paul",
         "60",
         "M"
        ],
        [
         "90",
         "Jessica",
         "78",
         "F"
        ],
        [
         "38",
         "Cynthia",
         "32",
         "M"
        ],
        [
         "29",
         "Jeremy",
         "67",
         "M"
        ],
        [
         "95",
         "Joseph",
         "58",
         "F"
        ],
        [
         "21",
         "Lindsay",
         "43",
         "F"
        ],
        [
         "57",
         "Reginald",
         "38",
         "F"
        ],
        [
         "16",
         "Joshua",
         "58",
         "M"
        ],
        [
         "77",
         "Daniel",
         "73",
         "M"
        ],
        [
         "40",
         "Steven",
         "64",
         "F"
        ],
        [
         "72",
         "Kelly",
         "26",
         "M"
        ],
        [
         "80",
         "Eric",
         "60",
         "M"
        ]
       ],
       "datasetInfos": [],
       "dbfsResultPath": null,
       "isJsonSchema": true,
       "metadata": {},
       "overflow": false,
       "plotOptions": {
        "customPlotOptions": {},
        "displayType": "table",
        "pivotAggregation": null,
        "pivotColumns": null,
        "xColumns": null,
        "yColumns": null
       },
       "removedWidgets": [],
       "schema": [
        {
         "metadata": "{}",
         "name": "PatientID",
         "type": "\"string\""
        },
        {
         "metadata": "{}",
         "name": "Name",
         "type": "\"string\""
        },
        {
         "metadata": "{}",
         "name": "Age",
         "type": "\"string\""
        },
        {
         "metadata": "{}",
         "name": "Gender",
         "type": "\"string\""
        }
       ],
       "type": "table"
      }
     },
     "output_type": "display_data"
    }
   ],
   "source": [
    "# This table contains unique pateint info\n",
    "\n",
    "patient_dim = df.select('PatientID', 'Name', 'Age', 'Gender').distinct()\n",
    "patient_dim.display()"
   ]
  },
  {
   "cell_type": "markdown",
   "metadata": {
    "application/vnd.databricks.v1+cell": {
     "cellMetadata": {},
     "inputWidgets": {},
     "nuid": "c18c6983-e56c-4bf6-b182-6de8b5aa31b0",
     "showTitle": false,
     "tableResultSettingsMap": {},
     "title": ""
    }
   },
   "source": [
    "### Step-6: Create the fact table  "
   ]
  },
  {
   "cell_type": "code",
   "execution_count": 0,
   "metadata": {
    "application/vnd.databricks.v1+cell": {
     "cellMetadata": {
      "byteLimit": 2048000,
      "rowLimit": 10000
     },
     "inputWidgets": {},
     "nuid": "15c0b0b5-5be6-406b-95ef-7bad80259940",
     "showTitle": false,
     "tableResultSettingsMap": {},
     "title": ""
    }
   },
   "outputs": [
    {
     "output_type": "display_data",
     "data": {
      "text/html": [
       "<style scoped>\n",
       "  .table-result-container {\n",
       "    max-height: 300px;\n",
       "    overflow: auto;\n",
       "  }\n",
       "  table, th, td {\n",
       "    border: 1px solid black;\n",
       "    border-collapse: collapse;\n",
       "  }\n",
       "  th, td {\n",
       "    padding: 5px;\n",
       "  }\n",
       "  th {\n",
       "    text-align: left;\n",
       "  }\n",
       "</style><div class='table-result-container'><table class='table-result'><thead style='background-color: white'><tr><th>PatientID</th><th>DateID</th><th>SystolicBP</th><th>DiastolicBP</th><th>GlucoseLevel</th><th>BMI</th></tr></thead><tbody><tr><td>1</td><td>20240527</td><td>111</td><td>93</td><td>105</td><td>22.5</td></tr><tr><td>2</td><td>20240821</td><td>153</td><td>93</td><td>139</td><td>19.9</td></tr><tr><td>3</td><td>20250228</td><td>111</td><td>72</td><td>97</td><td>22.3</td></tr><tr><td>4</td><td>20250301</td><td>145</td><td>76</td><td>153</td><td>30.1</td></tr><tr><td>5</td><td>20240620</td><td>138</td><td>88</td><td>105</td><td>31.9</td></tr><tr><td>6</td><td>20240530</td><td>154</td><td>83</td><td>113</td><td>23.1</td></tr><tr><td>7</td><td>20240810</td><td>116</td><td>72</td><td>118</td><td>20.1</td></tr><tr><td>8</td><td>20250106</td><td>148</td><td>78</td><td>75</td><td>30.5</td></tr><tr><td>9</td><td>20240803</td><td>134</td><td>72</td><td>140</td><td>23.3</td></tr><tr><td>10</td><td>20250214</td><td>146</td><td>76</td><td>160</td><td>19.6</td></tr><tr><td>11</td><td>20240811</td><td>159</td><td>79</td><td>80</td><td>32.6</td></tr><tr><td>12</td><td>20240903</td><td>134</td><td>78</td><td>128</td><td>29.0</td></tr><tr><td>13</td><td>20240520</td><td>133</td><td>81</td><td>96</td><td>29.6</td></tr><tr><td>14</td><td>20240719</td><td>148</td><td>90</td><td>91</td><td>27.3</td></tr><tr><td>15</td><td>20240927</td><td>139</td><td>82</td><td>104</td><td>34.8</td></tr><tr><td>16</td><td>20240809</td><td>153</td><td>80</td><td>77</td><td>22.3</td></tr><tr><td>17</td><td>20240925</td><td>135</td><td>78</td><td>78</td><td>22.0</td></tr><tr><td>18</td><td>20241012</td><td>123</td><td>90</td><td>133</td><td>25.0</td></tr><tr><td>19</td><td>20250412</td><td>119</td><td>78</td><td>87</td><td>22.6</td></tr><tr><td>20</td><td>20240828</td><td>157</td><td>88</td><td>124</td><td>33.3</td></tr><tr><td>21</td><td>20250225</td><td>124</td><td>74</td><td>135</td><td>26.6</td></tr><tr><td>22</td><td>20240705</td><td>117</td><td>74</td><td>150</td><td>21.1</td></tr><tr><td>23</td><td>20241012</td><td>148</td><td>72</td><td>119</td><td>24.8</td></tr><tr><td>24</td><td>20240908</td><td>145</td><td>97</td><td>71</td><td>29.7</td></tr><tr><td>25</td><td>20250113</td><td>159</td><td>90</td><td>113</td><td>20.3</td></tr><tr><td>26</td><td>20241005</td><td>139</td><td>70</td><td>103</td><td>34.5</td></tr><tr><td>27</td><td>20250215</td><td>142</td><td>99</td><td>83</td><td>32.9</td></tr><tr><td>28</td><td>20250129</td><td>119</td><td>81</td><td>90</td><td>27.4</td></tr><tr><td>29</td><td>20240907</td><td>148</td><td>80</td><td>132</td><td>18.8</td></tr><tr><td>30</td><td>20250415</td><td>129</td><td>77</td><td>77</td><td>22.5</td></tr><tr><td>31</td><td>20240626</td><td>115</td><td>93</td><td>132</td><td>32.0</td></tr><tr><td>32</td><td>20241110</td><td>118</td><td>91</td><td>130</td><td>34.1</td></tr><tr><td>33</td><td>20241006</td><td>143</td><td>97</td><td>147</td><td>25.5</td></tr><tr><td>34</td><td>20241002</td><td>155</td><td>79</td><td>121</td><td>34.9</td></tr><tr><td>35</td><td>20240829</td><td>138</td><td>98</td><td>136</td><td>25.9</td></tr><tr><td>36</td><td>20250207</td><td>114</td><td>80</td><td>72</td><td>28.2</td></tr><tr><td>37</td><td>20250109</td><td>110</td><td>72</td><td>160</td><td>28.9</td></tr><tr><td>38</td><td>20241211</td><td>112</td><td>97</td><td>112</td><td>19.7</td></tr><tr><td>39</td><td>20240720</td><td>152</td><td>85</td><td>97</td><td>27.4</td></tr><tr><td>40</td><td>20240830</td><td>125</td><td>95</td><td>130</td><td>31.8</td></tr><tr><td>41</td><td>20250121</td><td>116</td><td>91</td><td>125</td><td>24.3</td></tr><tr><td>42</td><td>20240811</td><td>156</td><td>71</td><td>156</td><td>29.3</td></tr><tr><td>43</td><td>20250410</td><td>113</td><td>82</td><td>113</td><td>31.7</td></tr><tr><td>44</td><td>20240608</td><td>122</td><td>76</td><td>138</td><td>25.9</td></tr><tr><td>45</td><td>20240530</td><td>127</td><td>84</td><td>101</td><td>32.9</td></tr><tr><td>46</td><td>20241020</td><td>145</td><td>73</td><td>76</td><td>29.3</td></tr><tr><td>47</td><td>20240807</td><td>115</td><td>99</td><td>100</td><td>21.2</td></tr><tr><td>48</td><td>20241224</td><td>123</td><td>97</td><td>121</td><td>33.4</td></tr><tr><td>49</td><td>20240917</td><td>110</td><td>82</td><td>103</td><td>33.8</td></tr><tr><td>50</td><td>20241127</td><td>128</td><td>83</td><td>159</td><td>34.3</td></tr><tr><td>51</td><td>20250508</td><td>119</td><td>76</td><td>107</td><td>22.1</td></tr><tr><td>52</td><td>20240712</td><td>157</td><td>80</td><td>77</td><td>19.3</td></tr><tr><td>53</td><td>20240821</td><td>113</td><td>100</td><td>135</td><td>19.8</td></tr><tr><td>54</td><td>20241213</td><td>148</td><td>72</td><td>156</td><td>32.7</td></tr><tr><td>55</td><td>20241231</td><td>146</td><td>77</td><td>144</td><td>28.3</td></tr><tr><td>56</td><td>20241230</td><td>136</td><td>91</td><td>144</td><td>27.8</td></tr><tr><td>57</td><td>20240811</td><td>123</td><td>91</td><td>110</td><td>22.4</td></tr><tr><td>58</td><td>20240710</td><td>152</td><td>90</td><td>108</td><td>26.0</td></tr><tr><td>59</td><td>20240622</td><td>110</td><td>84</td><td>149</td><td>35.0</td></tr><tr><td>60</td><td>20250417</td><td>144</td><td>76</td><td>134</td><td>22.9</td></tr><tr><td>61</td><td>20250116</td><td>114</td><td>98</td><td>101</td><td>24.6</td></tr><tr><td>62</td><td>20250206</td><td>144</td><td>92</td><td>108</td><td>28.6</td></tr><tr><td>63</td><td>20240611</td><td>152</td><td>96</td><td>140</td><td>23.4</td></tr><tr><td>64</td><td>20250104</td><td>118</td><td>78</td><td>84</td><td>33.2</td></tr><tr><td>65</td><td>20241209</td><td>127</td><td>79</td><td>147</td><td>22.0</td></tr><tr><td>66</td><td>20241218</td><td>153</td><td>90</td><td>103</td><td>26.8</td></tr><tr><td>67</td><td>20240522</td><td>115</td><td>90</td><td>124</td><td>32.2</td></tr><tr><td>68</td><td>20240701</td><td>131</td><td>94</td><td>86</td><td>29.0</td></tr><tr><td>69</td><td>20241212</td><td>157</td><td>84</td><td>140</td><td>30.1</td></tr><tr><td>70</td><td>20250312</td><td>117</td><td>72</td><td>158</td><td>33.4</td></tr><tr><td>71</td><td>20240630</td><td>133</td><td>88</td><td>140</td><td>20.9</td></tr><tr><td>72</td><td>20240718</td><td>129</td><td>81</td><td>75</td><td>33.3</td></tr><tr><td>73</td><td>20250222</td><td>152</td><td>73</td><td>115</td><td>31.4</td></tr><tr><td>74</td><td>20240828</td><td>149</td><td>93</td><td>89</td><td>33.8</td></tr><tr><td>75</td><td>20250309</td><td>121</td><td>98</td><td>122</td><td>18.9</td></tr><tr><td>76</td><td>20250507</td><td>160</td><td>99</td><td>122</td><td>31.7</td></tr><tr><td>77</td><td>20250115</td><td>127</td><td>75</td><td>159</td><td>20.3</td></tr><tr><td>78</td><td>20250121</td><td>140</td><td>77</td><td>95</td><td>32.0</td></tr><tr><td>79</td><td>20240803</td><td>129</td><td>96</td><td>99</td><td>22.2</td></tr><tr><td>80</td><td>20250310</td><td>135</td><td>80</td><td>105</td><td>32.8</td></tr><tr><td>81</td><td>20250316</td><td>132</td><td>90</td><td>135</td><td>25.1</td></tr><tr><td>82</td><td>20250509</td><td>111</td><td>73</td><td>103</td><td>21.4</td></tr><tr><td>83</td><td>20240920</td><td>112</td><td>73</td><td>146</td><td>25.7</td></tr><tr><td>84</td><td>20240630</td><td>137</td><td>89</td><td>135</td><td>20.4</td></tr><tr><td>85</td><td>20250424</td><td>126</td><td>71</td><td>160</td><td>25.7</td></tr><tr><td>86</td><td>20250327</td><td>133</td><td>83</td><td>78</td><td>34.2</td></tr><tr><td>87</td><td>20240609</td><td>149</td><td>80</td><td>154</td><td>32.5</td></tr><tr><td>88</td><td>20241224</td><td>142</td><td>79</td><td>155</td><td>25.2</td></tr><tr><td>89</td><td>20240620</td><td>145</td><td>74</td><td>94</td><td>25.4</td></tr><tr><td>90</td><td>20250330</td><td>153</td><td>93</td><td>92</td><td>28.7</td></tr><tr><td>91</td><td>20250309</td><td>145</td><td>96</td><td>70</td><td>23.5</td></tr><tr><td>92</td><td>20240705</td><td>160</td><td>88</td><td>147</td><td>29.3</td></tr><tr><td>93</td><td>20241118</td><td>138</td><td>91</td><td>97</td><td>26.9</td></tr><tr><td>94</td><td>20240721</td><td>152</td><td>72</td><td>106</td><td>27.0</td></tr><tr><td>95</td><td>20250421</td><td>115</td><td>96</td><td>100</td><td>29.6</td></tr><tr><td>96</td><td>20240808</td><td>119</td><td>70</td><td>75</td><td>22.5</td></tr><tr><td>97</td><td>20250307</td><td>139</td><td>83</td><td>150</td><td>28.0</td></tr><tr><td>98</td><td>20240804</td><td>141</td><td>82</td><td>101</td><td>20.9</td></tr><tr><td>99</td><td>20241019</td><td>158</td><td>97</td><td>83</td><td>31.3</td></tr><tr><td>100</td><td>20250125</td><td>154</td><td>86</td><td>129</td><td>19.3</td></tr></tbody></table></div>"
      ]
     },
     "metadata": {
      "application/vnd.databricks.v1+output": {
       "addedWidgets": {},
       "aggData": [],
       "aggError": "",
       "aggOverflow": false,
       "aggSchema": [],
       "aggSeriesLimitReached": false,
       "aggType": "",
       "arguments": {},
       "columnCustomDisplayInfos": {},
       "data": [
        [
         "1",
         20240527,
         111,
         93,
         "105",
         "22.5"
        ],
        [
         "2",
         20240821,
         153,
         93,
         "139",
         "19.9"
        ],
        [
         "3",
         20250228,
         111,
         72,
         "97",
         "22.3"
        ],
        [
         "4",
         20250301,
         145,
         76,
         "153",
         "30.1"
        ],
        [
         "5",
         20240620,
         138,
         88,
         "105",
         "31.9"
        ],
        [
         "6",
         20240530,
         154,
         83,
         "113",
         "23.1"
        ],
        [
         "7",
         20240810,
         116,
         72,
         "118",
         "20.1"
        ],
        [
         "8",
         20250106,
         148,
         78,
         "75",
         "30.5"
        ],
        [
         "9",
         20240803,
         134,
         72,
         "140",
         "23.3"
        ],
        [
         "10",
         20250214,
         146,
         76,
         "160",
         "19.6"
        ],
        [
         "11",
         20240811,
         159,
         79,
         "80",
         "32.6"
        ],
        [
         "12",
         20240903,
         134,
         78,
         "128",
         "29.0"
        ],
        [
         "13",
         20240520,
         133,
         81,
         "96",
         "29.6"
        ],
        [
         "14",
         20240719,
         148,
         90,
         "91",
         "27.3"
        ],
        [
         "15",
         20240927,
         139,
         82,
         "104",
         "34.8"
        ],
        [
         "16",
         20240809,
         153,
         80,
         "77",
         "22.3"
        ],
        [
         "17",
         20240925,
         135,
         78,
         "78",
         "22.0"
        ],
        [
         "18",
         20241012,
         123,
         90,
         "133",
         "25.0"
        ],
        [
         "19",
         20250412,
         119,
         78,
         "87",
         "22.6"
        ],
        [
         "20",
         20240828,
         157,
         88,
         "124",
         "33.3"
        ],
        [
         "21",
         20250225,
         124,
         74,
         "135",
         "26.6"
        ],
        [
         "22",
         20240705,
         117,
         74,
         "150",
         "21.1"
        ],
        [
         "23",
         20241012,
         148,
         72,
         "119",
         "24.8"
        ],
        [
         "24",
         20240908,
         145,
         97,
         "71",
         "29.7"
        ],
        [
         "25",
         20250113,
         159,
         90,
         "113",
         "20.3"
        ],
        [
         "26",
         20241005,
         139,
         70,
         "103",
         "34.5"
        ],
        [
         "27",
         20250215,
         142,
         99,
         "83",
         "32.9"
        ],
        [
         "28",
         20250129,
         119,
         81,
         "90",
         "27.4"
        ],
        [
         "29",
         20240907,
         148,
         80,
         "132",
         "18.8"
        ],
        [
         "30",
         20250415,
         129,
         77,
         "77",
         "22.5"
        ],
        [
         "31",
         20240626,
         115,
         93,
         "132",
         "32.0"
        ],
        [
         "32",
         20241110,
         118,
         91,
         "130",
         "34.1"
        ],
        [
         "33",
         20241006,
         143,
         97,
         "147",
         "25.5"
        ],
        [
         "34",
         20241002,
         155,
         79,
         "121",
         "34.9"
        ],
        [
         "35",
         20240829,
         138,
         98,
         "136",
         "25.9"
        ],
        [
         "36",
         20250207,
         114,
         80,
         "72",
         "28.2"
        ],
        [
         "37",
         20250109,
         110,
         72,
         "160",
         "28.9"
        ],
        [
         "38",
         20241211,
         112,
         97,
         "112",
         "19.7"
        ],
        [
         "39",
         20240720,
         152,
         85,
         "97",
         "27.4"
        ],
        [
         "40",
         20240830,
         125,
         95,
         "130",
         "31.8"
        ],
        [
         "41",
         20250121,
         116,
         91,
         "125",
         "24.3"
        ],
        [
         "42",
         20240811,
         156,
         71,
         "156",
         "29.3"
        ],
        [
         "43",
         20250410,
         113,
         82,
         "113",
         "31.7"
        ],
        [
         "44",
         20240608,
         122,
         76,
         "138",
         "25.9"
        ],
        [
         "45",
         20240530,
         127,
         84,
         "101",
         "32.9"
        ],
        [
         "46",
         20241020,
         145,
         73,
         "76",
         "29.3"
        ],
        [
         "47",
         20240807,
         115,
         99,
         "100",
         "21.2"
        ],
        [
         "48",
         20241224,
         123,
         97,
         "121",
         "33.4"
        ],
        [
         "49",
         20240917,
         110,
         82,
         "103",
         "33.8"
        ],
        [
         "50",
         20241127,
         128,
         83,
         "159",
         "34.3"
        ],
        [
         "51",
         20250508,
         119,
         76,
         "107",
         "22.1"
        ],
        [
         "52",
         20240712,
         157,
         80,
         "77",
         "19.3"
        ],
        [
         "53",
         20240821,
         113,
         100,
         "135",
         "19.8"
        ],
        [
         "54",
         20241213,
         148,
         72,
         "156",
         "32.7"
        ],
        [
         "55",
         20241231,
         146,
         77,
         "144",
         "28.3"
        ],
        [
         "56",
         20241230,
         136,
         91,
         "144",
         "27.8"
        ],
        [
         "57",
         20240811,
         123,
         91,
         "110",
         "22.4"
        ],
        [
         "58",
         20240710,
         152,
         90,
         "108",
         "26.0"
        ],
        [
         "59",
         20240622,
         110,
         84,
         "149",
         "35.0"
        ],
        [
         "60",
         20250417,
         144,
         76,
         "134",
         "22.9"
        ],
        [
         "61",
         20250116,
         114,
         98,
         "101",
         "24.6"
        ],
        [
         "62",
         20250206,
         144,
         92,
         "108",
         "28.6"
        ],
        [
         "63",
         20240611,
         152,
         96,
         "140",
         "23.4"
        ],
        [
         "64",
         20250104,
         118,
         78,
         "84",
         "33.2"
        ],
        [
         "65",
         20241209,
         127,
         79,
         "147",
         "22.0"
        ],
        [
         "66",
         20241218,
         153,
         90,
         "103",
         "26.8"
        ],
        [
         "67",
         20240522,
         115,
         90,
         "124",
         "32.2"
        ],
        [
         "68",
         20240701,
         131,
         94,
         "86",
         "29.0"
        ],
        [
         "69",
         20241212,
         157,
         84,
         "140",
         "30.1"
        ],
        [
         "70",
         20250312,
         117,
         72,
         "158",
         "33.4"
        ],
        [
         "71",
         20240630,
         133,
         88,
         "140",
         "20.9"
        ],
        [
         "72",
         20240718,
         129,
         81,
         "75",
         "33.3"
        ],
        [
         "73",
         20250222,
         152,
         73,
         "115",
         "31.4"
        ],
        [
         "74",
         20240828,
         149,
         93,
         "89",
         "33.8"
        ],
        [
         "75",
         20250309,
         121,
         98,
         "122",
         "18.9"
        ],
        [
         "76",
         20250507,
         160,
         99,
         "122",
         "31.7"
        ],
        [
         "77",
         20250115,
         127,
         75,
         "159",
         "20.3"
        ],
        [
         "78",
         20250121,
         140,
         77,
         "95",
         "32.0"
        ],
        [
         "79",
         20240803,
         129,
         96,
         "99",
         "22.2"
        ],
        [
         "80",
         20250310,
         135,
         80,
         "105",
         "32.8"
        ],
        [
         "81",
         20250316,
         132,
         90,
         "135",
         "25.1"
        ],
        [
         "82",
         20250509,
         111,
         73,
         "103",
         "21.4"
        ],
        [
         "83",
         20240920,
         112,
         73,
         "146",
         "25.7"
        ],
        [
         "84",
         20240630,
         137,
         89,
         "135",
         "20.4"
        ],
        [
         "85",
         20250424,
         126,
         71,
         "160",
         "25.7"
        ],
        [
         "86",
         20250327,
         133,
         83,
         "78",
         "34.2"
        ],
        [
         "87",
         20240609,
         149,
         80,
         "154",
         "32.5"
        ],
        [
         "88",
         20241224,
         142,
         79,
         "155",
         "25.2"
        ],
        [
         "89",
         20240620,
         145,
         74,
         "94",
         "25.4"
        ],
        [
         "90",
         20250330,
         153,
         93,
         "92",
         "28.7"
        ],
        [
         "91",
         20250309,
         145,
         96,
         "70",
         "23.5"
        ],
        [
         "92",
         20240705,
         160,
         88,
         "147",
         "29.3"
        ],
        [
         "93",
         20241118,
         138,
         91,
         "97",
         "26.9"
        ],
        [
         "94",
         20240721,
         152,
         72,
         "106",
         "27.0"
        ],
        [
         "95",
         20250421,
         115,
         96,
         "100",
         "29.6"
        ],
        [
         "96",
         20240808,
         119,
         70,
         "75",
         "22.5"
        ],
        [
         "97",
         20250307,
         139,
         83,
         "150",
         "28.0"
        ],
        [
         "98",
         20240804,
         141,
         82,
         "101",
         "20.9"
        ],
        [
         "99",
         20241019,
         158,
         97,
         "83",
         "31.3"
        ],
        [
         "100",
         20250125,
         154,
         86,
         "129",
         "19.3"
        ]
       ],
       "datasetInfos": [],
       "dbfsResultPath": null,
       "isJsonSchema": true,
       "metadata": {},
       "overflow": false,
       "plotOptions": {
        "customPlotOptions": {},
        "displayType": "table",
        "pivotAggregation": null,
        "pivotColumns": null,
        "xColumns": null,
        "yColumns": null
       },
       "removedWidgets": [],
       "schema": [
        {
         "metadata": "{}",
         "name": "PatientID",
         "type": "\"string\""
        },
        {
         "metadata": "{}",
         "name": "DateID",
         "type": "\"integer\""
        },
        {
         "metadata": "{}",
         "name": "SystolicBP",
         "type": "\"integer\""
        },
        {
         "metadata": "{}",
         "name": "DiastolicBP",
         "type": "\"integer\""
        },
        {
         "metadata": "{}",
         "name": "GlucoseLevel",
         "type": "\"string\""
        },
        {
         "metadata": "{}",
         "name": "BMI",
         "type": "\"string\""
        }
       ],
       "type": "table"
      }
     },
     "output_type": "display_data"
    }
   ],
   "source": [
    "# Join back date dimension to get the DateID(foreign key)\n",
    "fact = df.join(date_dim, on='VisitDate', how='left')\n",
    "\n",
    "# select required metrics and keys for the fact table\n",
    "fact_health = fact.select('PatientID', 'DateID', 'SystolicBP', 'DiastolicBP', 'GlucoseLevel', 'BMI')\n",
    "fact_health.display()"
   ]
  },
  {
   "cell_type": "markdown",
   "metadata": {
    "application/vnd.databricks.v1+cell": {
     "cellMetadata": {},
     "inputWidgets": {},
     "nuid": "75b15c64-ab57-4402-a04b-363804dcfaae",
     "showTitle": false,
     "tableResultSettingsMap": {},
     "title": ""
    }
   },
   "source": [
    "### Step-7: Saved all dimension and fact tales as delta format"
   ]
  },
  {
   "cell_type": "code",
   "execution_count": 0,
   "metadata": {
    "application/vnd.databricks.v1+cell": {
     "cellMetadata": {},
     "inputWidgets": {},
     "nuid": "fc657c3a-12ff-46a0-b149-a979c340f712",
     "showTitle": false,
     "tableResultSettingsMap": {},
     "title": ""
    }
   },
   "outputs": [],
   "source": [
    "# these are saved for downstream quering and reporting \n",
    "\n",
    "# save patient dimension table\n",
    "patient_dim.write.format('delta').mode('overwrite').save('/delta'patient_dim)\n",
    "\n",
    "# save date dimension table \n",
    "date_dim.write.format('delta.mode')"
   ]
  }
 ],
 "metadata": {
  "application/vnd.databricks.v1+notebook": {
   "computePreferences": null,
   "dashboards": [],
   "environmentMetadata": {
    "base_environment": "",
    "environment_version": "1"
   },
   "inputWidgetPreferences": null,
   "language": "python",
   "notebookMetadata": {
    "pythonIndentUnit": 4
   },
   "notebookName": "Health_Data_Modeling",
   "widgets": {}
  }
 },
 "nbformat": 4,
 "nbformat_minor": 0
}